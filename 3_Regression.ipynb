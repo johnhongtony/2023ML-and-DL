{
 "cells": [
  {
   "cell_type": "markdown",
   "id": "b69e89a9",
   "metadata": {},
   "source": [
    "# Regression on Toy Data"
   ]
  },
  {
   "cell_type": "markdown",
   "id": "c2c24942",
   "metadata": {},
   "source": [
    "### Load Data"
   ]
  },
  {
   "cell_type": "code",
   "execution_count": 3,
   "id": "430b4aaf",
   "metadata": {},
   "outputs": [],
   "source": [
    "import pandas as pd"
   ]
  },
  {
   "cell_type": "code",
   "execution_count": 22,
   "id": "5eb60844",
   "metadata": {},
   "outputs": [],
   "source": [
    "data = pd.read_csv('./data/sample.csv', header=0, sep=',', encoding='euc-kr')"
   ]
  },
  {
   "cell_type": "code",
   "execution_count": 23,
   "id": "dd93801a",
   "metadata": {},
   "outputs": [],
   "source": [
    "data = data[['국어성적', '수학성적']].values"
   ]
  },
  {
   "cell_type": "code",
   "execution_count": 24,
   "id": "42bd7f02",
   "metadata": {},
   "outputs": [
    {
     "data": {
      "text/plain": [
       "array([[20, 55],\n",
       "       [60, 80],\n",
       "       [ 0, 50],\n",
       "       [20, 60],\n",
       "       [60, 80],\n",
       "       [30, 65],\n",
       "       [60, 80],\n",
       "       [60, 80],\n",
       "       [10, 55],\n",
       "       [40, 70],\n",
       "       [70, 85],\n",
       "       [10, 55],\n",
       "       [30, 65],\n",
       "       [ 0, 50],\n",
       "       [20, 60],\n",
       "       [60, 80],\n",
       "       [90, 95],\n",
       "       [ 0, 50],\n",
       "       [ 0, 50],\n",
       "       [90, 95],\n",
       "       [10, 55],\n",
       "       [90, 95],\n",
       "       [60, 80],\n",
       "       [10, 55]])"
      ]
     },
     "execution_count": 24,
     "metadata": {},
     "output_type": "execute_result"
    }
   ],
   "source": [
    "data"
   ]
  },
  {
   "cell_type": "markdown",
   "id": "9ea6a919",
   "metadata": {},
   "source": [
    "### Split Data: Train data, Validation Data"
   ]
  },
  {
   "cell_type": "code",
   "execution_count": 25,
   "id": "0bef3230",
   "metadata": {},
   "outputs": [],
   "source": [
    "import numpy as np"
   ]
  },
  {
   "cell_type": "code",
   "execution_count": 26,
   "id": "73dd1fe9",
   "metadata": {},
   "outputs": [],
   "source": [
    "train_len = 12\n",
    "train_idxs = np.random.choice(len(data), train_len, replace=False) #index정의\n",
    "train_data = data[train_idxs] #위에 csv file의 data에 index형식에 맞게 뽑아 train_data를 선언(12개)  "
   ]
  },
  {
   "cell_type": "code",
   "execution_count": 27,
   "id": "229b45c9",
   "metadata": {},
   "outputs": [
    {
     "name": "stdout",
     "output_type": "stream",
     "text": [
      "[[30 65]\n",
      " [ 0 50]\n",
      " [60 80]\n",
      " [90 95]\n",
      " [60 80]\n",
      " [20 60]\n",
      " [10 55]\n",
      " [20 60]\n",
      " [10 55]\n",
      " [90 95]\n",
      " [20 55]\n",
      " [40 70]]\n"
     ]
    }
   ],
   "source": [
    "print(train_data)"
   ]
  },
  {
   "cell_type": "code",
   "execution_count": 28,
   "id": "5b054035",
   "metadata": {},
   "outputs": [],
   "source": [
    "val_idxs = [idx for idx in range(len(data)) if idx not in train_idxs] #validation Data정의\n",
    "val_data = data[val_idxs] #validation Data 선언"
   ]
  },
  {
   "cell_type": "code",
   "execution_count": 29,
   "id": "ffcd9b3c",
   "metadata": {},
   "outputs": [
    {
     "name": "stdout",
     "output_type": "stream",
     "text": [
      "[[60 80]\n",
      " [ 0 50]\n",
      " [60 80]\n",
      " [60 80]\n",
      " [70 85]\n",
      " [10 55]\n",
      " [30 65]\n",
      " [ 0 50]\n",
      " [ 0 50]\n",
      " [90 95]\n",
      " [10 55]\n",
      " [60 80]]\n"
     ]
    }
   ],
   "source": [
    "print(val_data)"
   ]
  },
  {
   "cell_type": "markdown",
   "id": "7478221f",
   "metadata": {},
   "source": [
    "### Set Models"
   ]
  },
  {
   "cell_type": "markdown",
   "id": "dd43efb3",
   "metadata": {},
   "source": [
    "#### Linear Regression"
   ]
  },
  {
   "cell_type": "code",
   "execution_count": 30,
   "id": "8adb624c",
   "metadata": {},
   "outputs": [],
   "source": [
    "from sklearn.linear_model import LinearRegression"
   ]
  },
  {
   "cell_type": "code",
   "execution_count": 31,
   "id": "857cd1ac",
   "metadata": {},
   "outputs": [],
   "source": [
    "model_lr = LinearRegression(fit_intercept=True) # Loss function is fixed to MSE., fit_intercept를 True로 하면 y절편 값을 구하고, False로 하면 그러지 않는다."
   ]
  },
  {
   "cell_type": "markdown",
   "id": "c443fccb",
   "metadata": {},
   "source": [
    "#### DecisionTree"
   ]
  },
  {
   "cell_type": "code",
   "execution_count": 32,
   "id": "f7ab8fa4",
   "metadata": {},
   "outputs": [],
   "source": [
    "from sklearn.tree import DecisionTreeRegressor"
   ]
  },
  {
   "cell_type": "code",
   "execution_count": 33,
   "id": "dd3c7635",
   "metadata": {},
   "outputs": [],
   "source": [
    "model_dt = DecisionTreeRegressor(#criterion='squared_error', # latest version {“squared_error”, “absolute_error”, ...}\n",
    "                                 criterion='mse', # v=0.24 {“mse”, “mae”, ...}\n",
    "                                 splitter='best', # {“best”, “random”}\n",
    "                                 max_depth=2, #tree의 깊이를 2로 설정\n",
    "                                 random_state=0) # random state를 '0'으로 설정하여 항상 같 순서의 데이터 사용"
   ]
  },
  {
   "cell_type": "markdown",
   "id": "4ce39aa6",
   "metadata": {},
   "source": [
    "### Train and Validate"
   ]
  },
  {
   "cell_type": "code",
   "execution_count": 67,
   "id": "2156bb93",
   "metadata": {},
   "outputs": [],
   "source": [
    "models = [model_lr, model_dt] #model_lr 과 model_dt를 배열로 담음(models)"
   ]
  },
  {
   "cell_type": "code",
   "execution_count": 68,
   "id": "559130a9",
   "metadata": {},
   "outputs": [],
   "source": [
    "def mse_loss(pre, y):                   #mse loss function정의\n",
    "    return ((pre-y)**2).mean()"
   ]
  },
  {
   "cell_type": "markdown",
   "id": "ee2c9fea",
   "metadata": {},
   "source": [
    "#### Train"
   ]
  },
  {
   "cell_type": "code",
   "execution_count": 74,
   "id": "142d2436",
   "metadata": {},
   "outputs": [
    {
     "name": "stdout",
     "output_type": "stream",
     "text": [
      "(12, 1) (12,)\n"
     ]
    },
    {
     "data": {
      "text/plain": [
       "(array([[30],\n",
       "        [ 0],\n",
       "        [60],\n",
       "        [90],\n",
       "        [60],\n",
       "        [20],\n",
       "        [10],\n",
       "        [20],\n",
       "        [10],\n",
       "        [90],\n",
       "        [20],\n",
       "        [40]]),\n",
       " array([65, 50, 80, 95, 80, 60, 55, 60, 55, 95, 55, 70]))"
      ]
     },
     "execution_count": 74,
     "metadata": {},
     "output_type": "execute_result"
    }
   ],
   "source": [
    "x = train_data[:, 0:1]   # train data를 리스트x로 저장 [: -> 원소가 0부터 인덱스에 있는 만큼 , 0:1 -> 인덱스 0~1까지 즉 '0'번째 인덱스만큼 열로]\n",
    "y = train_data[:, 1]     # train data를 리스트y로 저장 [ \" , 1 -> '2열'의 데이터]\n",
    "\n",
    "print(x.shape, y.shape)\n",
    "x, y"
   ]
  },
  {
   "cell_type": "code",
   "execution_count": 71,
   "id": "d8b777b3",
   "metadata": {},
   "outputs": [
    {
     "name": "stdout",
     "output_type": "stream",
     "text": [
      "LinearRegression() 1.848521183053557\n",
      "DecisionTreeRegressor(criterion='mse', max_depth=2, random_state=0) 6.944444444444444\n"
     ]
    },
    {
     "name": "stderr",
     "output_type": "stream",
     "text": [
      "/Applications/anaconda3/lib/python3.9/site-packages/sklearn/tree/_classes.py:359: FutureWarning: Criterion 'mse' was deprecated in v1.0 and will be removed in version 1.2. Use `criterion='squared_error'` which is equivalent.\n",
      "  warnings.warn(\n"
     ]
    }
   ],
   "source": [
    "for model in models:\n",
    "    model.fit(x, y)                    # sklearn의 .fit method를 사용하여 train data로 선언한 x와y를 훈련시킴\n",
    "    pre = model.predict(x)             # sklearn의 .predict()을 사용하여 훈련에 대한 예측값을 pre에 담음\n",
    "    \n",
    "    loss_value = mse_loss(pre, y)\n",
    "    \n",
    "    print(model, loss_value)"
   ]
  },
  {
   "cell_type": "markdown",
   "id": "8452bf1c",
   "metadata": {},
   "source": [
    "#### Validate"
   ]
  },
  {
   "cell_type": "code",
   "execution_count": 72,
   "id": "e0056f49",
   "metadata": {},
   "outputs": [
    {
     "name": "stdout",
     "output_type": "stream",
     "text": [
      "(12, 1) (12,)\n"
     ]
    }
   ],
   "source": [
    "x = val_data[:, 0:1]\n",
    "y = val_data[:, 1]\n",
    "\n",
    "print(x.shape, y.shape)"
   ]
  },
  {
   "cell_type": "code",
   "execution_count": 73,
   "id": "b70aa25c",
   "metadata": {},
   "outputs": [
    {
     "name": "stdout",
     "output_type": "stream",
     "text": [
      "LinearRegression() 0.24185687421286753\n",
      "DecisionTreeRegressor(criterion='mse', max_depth=2, random_state=0) 11.22685185185186\n"
     ]
    }
   ],
   "source": [
    "for model in models:\n",
    "#     model.fit(x, y)\n",
    "    pre = model.predict(x)\n",
    "    \n",
    "    loss_value = mse_loss(pre, y)\n",
    "    \n",
    "    print(model, loss_value)"
   ]
  },
  {
   "cell_type": "markdown",
   "id": "6899906c",
   "metadata": {},
   "source": [
    "#### Explain"
   ]
  },
  {
   "cell_type": "code",
   "execution_count": 78,
   "id": "4a642a04",
   "metadata": {},
   "outputs": [
    {
     "name": "stdout",
     "output_type": "stream",
     "text": [
      "w: [0.50839329] , b: 49.26858513189447\n"
     ]
    }
   ],
   "source": [
    "print(\"w:\", model_lr.coef_, \", b:\", model_lr.intercept_)  # .coef_ => 기울기 / .intercept_ => 절편"
   ]
  },
  {
   "cell_type": "code",
   "execution_count": 79,
   "id": "6a4b9983",
   "metadata": {},
   "outputs": [],
   "source": [
    "from sklearn.tree import export_graphviz             #의사결정트리를 사용하기 위해 임포트\n",
    "export_graphviz(model_dt, out_file ='tree.dot')      #model_dt에 의사결정 트리를 사용\n",
    "# http://webgraphviz.com/"
   ]
  },
  {
   "cell_type": "code",
   "execution_count": 80,
   "id": "dc060aec",
   "metadata": {},
   "outputs": [],
   "source": [
    "import matplotlib.pyplot as plt     #데이터 시각화 사용\n",
    "%matplotlib inline"
   ]
  },
  {
   "cell_type": "code",
   "execution_count": 85,
   "id": "ac32570f",
   "metadata": {},
   "outputs": [],
   "source": [
    "xs = np.arange(0.0, 100.0, 1).reshape(-1, 1) #numpy기반 arange함수를 사용하여 [0.0 에서(개구간) 100.0까지(폐구간) 1의 간격으로 array형태로 반환)\n",
    "                                            #.reshape를 사용하여 -1을 통해 사이즈를 기반으로 row개수를 정하고, 2를 통해 1차원으로 데이터 나열"
   ]
  },
  {
   "cell_type": "code",
   "execution_count": 82,
   "id": "adcd2362",
   "metadata": {},
   "outputs": [
    {
     "data": {
      "image/png": "[encoded data removed]",
      "text/plain": [
       "<Figure size 432x288 with 1 Axes>"
      ]
     },
     "metadata": {
      "needs_background": "light"
     },
     "output_type": "display_data"
    }
   ],
   "source": [
    "plt.scatter(x, y, c='k')      #산점도 (Scatter plot)는 두 변수의 상관 관계를 직교 좌표계의 평면에 점으로 표현하는 그래프\n",
    "plt.plot(xs, model_lr.predict(xs), c='r')  #실제로 그래프를 시각화함 (xs와 predict(xs)를 가지고 빨간색 라인으로 그래프를 나타냄)\n",
    "plt.show()"
   ]
  },
  {
   "cell_type": "code",
   "execution_count": 83,
   "id": "b1e4d59c",
   "metadata": {},
   "outputs": [
    {
     "data": {
      "image/png": "[encoded data removed]",
      "text/plain": [
       "<Figure size 432x288 with 1 Axes>"
      ]
     },
     "metadata": {
      "needs_background": "light"
     },
     "output_type": "display_data"
    }
   ],
   "source": [
    "plt.scatter(x, y, c='k')\n",
    "plt.plot(xs, model_dt.predict(xs), c='r')\n",
    "plt.show()"
   ]
  },
  {
   "cell_type": "markdown",
   "id": "2c4c81bb",
   "metadata": {},
   "source": [
    "### Select Model"
   ]
  },
  {
   "cell_type": "code",
   "execution_count": 98,
   "id": "02d554a8",
   "metadata": {},
   "outputs": [],
   "source": [
    "model_best = model_lr"
   ]
  },
  {
   "cell_type": "markdown",
   "id": "2f947294",
   "metadata": {},
   "source": [
    "# Regression on Real Data"
   ]
  },
  {
   "cell_type": "markdown",
   "id": "bb557c03",
   "metadata": {},
   "source": [
    "[Load the California housing dataset (regression)](https://scikit-learn.org/stable/modules/generated/sklearn.datasets.fetch_california_housing.html#sklearn.datasets.fetch_california_housing)"
   ]
  },
  {
   "cell_type": "markdown",
   "id": "9546038d",
   "metadata": {},
   "source": [
    "**Data Set Characteristics:**\n",
    "\n",
    "    :Number of Instances: 20640\n",
    "\n",
    "    :Number of Attributes: 8 numeric, predictive attributes and the target\n",
    "\n",
    "    :Attribute Information:\n",
    "        - MedInc        median income in block group\n",
    "        - HouseAge      median house age in block group\n",
    "        - AveRooms      average number of rooms per household\n",
    "        - AveBedrms     average number of bedrooms per household\n",
    "        - Population    block group population\n",
    "        - AveOccup      average number of household members\n",
    "        - Latitude      block group latitude\n",
    "        - Longitude     block group longitude\n",
    "\n",
    "    :Missing Attribute Values: None\n",
    "\n",
    "This dataset was obtained from the StatLib repository.\n",
    "https://www.dcc.fc.up.pt/~ltorgo/Regression/cal_housing.html\n",
    "\n",
    "The target variable is the median house value for California districts,\n",
    "expressed in hundreds of thousands of dollars ($100,000).\n",
    "\n",
    "This dataset was derived from the 1990 U.S. census, using one row per census\n",
    "block group. A block group is the smallest geographical unit for which the U.S.\n",
    "Census Bureau publishes sample data (a block group typically has a population\n",
    "of 600 to 3,000 people).\n",
    "\n",
    "An household is a group of people residing within a home. Since the average\n",
    "number of rooms and bedrooms in this dataset are provided per household, these\n",
    "columns may take surpinsingly large values for block groups with few households\n",
    "and many empty houses, such as vacation resorts.\n",
    "\n",
    "It can be downloaded/loaded using the\n",
    ":func:`sklearn.datasets.fetch_california_housing` function.\n",
    "\n",
    ".. topic:: References\n",
    "\n",
    "    - Pace, R. Kelley and Ronald Barry, Sparse Spatial Autoregressions,\n",
    "      Statistics and Probability Letters, 33 (1997) 291-297"
   ]
  },
  {
   "cell_type": "code",
   "execution_count": 99,
   "id": "ac99efe0",
   "metadata": {},
   "outputs": [],
   "source": [
    "from sklearn.datasets import fetch_california_housing\n",
    "california_housing = fetch_california_housing()"
   ]
  },
  {
   "cell_type": "code",
   "execution_count": 100,
   "id": "a8c544ed",
   "metadata": {},
   "outputs": [
    {
     "data": {
      "text/plain": [
       "((20640, 8), (20640,))"
      ]
     },
     "execution_count": 100,
     "metadata": {},
     "output_type": "execute_result"
    }
   ],
   "source": [
    "x = california_housing.data\n",
    "y = california_housing.target\n",
    "x.shape, y.shape"
   ]
  },
  {
   "cell_type": "markdown",
   "id": "429a8140",
   "metadata": {},
   "source": [
    "### Split Data: Train data, Validation Data"
   ]
  },
  {
   "cell_type": "code",
   "execution_count": 101,
   "id": "daf0693d",
   "metadata": {},
   "outputs": [],
   "source": [
    "import numpy as np"
   ]
  },
  {
   "cell_type": "code",
   "execution_count": 102,
   "id": "4aaa7f19",
   "metadata": {},
   "outputs": [],
   "source": [
    "train_len = 5000\n",
    "train_idxs = np.random.choice(len(x), train_len, replace=False)\n",
    "train_x = x[train_idxs]\n",
    "train_y = y[train_idxs]"
   ]
  },
  {
   "cell_type": "code",
   "execution_count": 103,
   "id": "d02e8f4c",
   "metadata": {},
   "outputs": [],
   "source": [
    "val_idxs = [idx for idx in range(len(data)) if idx not in train_idxs]\n",
    "val_x = x[val_idxs]\n",
    "val_y = y[val_idxs]"
   ]
  },
  {
   "cell_type": "markdown",
   "id": "7327922c",
   "metadata": {},
   "source": [
    "### Set Models"
   ]
  },
  {
   "cell_type": "markdown",
   "id": "e6feb469",
   "metadata": {},
   "source": [
    "#### Linear Regression"
   ]
  },
  {
   "cell_type": "code",
   "execution_count": 104,
   "id": "7e2a7272",
   "metadata": {},
   "outputs": [],
   "source": [
    "from sklearn.linear_model import LinearRegression"
   ]
  },
  {
   "cell_type": "code",
   "execution_count": 105,
   "id": "60ccdf2b",
   "metadata": {},
   "outputs": [],
   "source": [
    "model_lr = LinearRegression(fit_intercept=True) # Loss function is fixed to MSE."
   ]
  },
  {
   "cell_type": "markdown",
   "id": "d8ecafad",
   "metadata": {},
   "source": [
    "#### DecisionTree"
   ]
  },
  {
   "cell_type": "code",
   "execution_count": 106,
   "id": "b253576a",
   "metadata": {},
   "outputs": [],
   "source": [
    "from sklearn.tree import DecisionTreeRegressor"
   ]
  },
  {
   "cell_type": "code",
   "execution_count": 107,
   "id": "992e5572",
   "metadata": {},
   "outputs": [],
   "source": [
    "#model_dt를 의사결정트리로 만드는 과정(DecisionTreeRegressor=회귀tree / DecisionTreeClassifier=분류tree)\n",
    "model_dt = DecisionTreeRegressor(#criterion='squared_error', # latest version {“squared_error”, “absolute_error”, ...}\n",
    "                                 criterion='mse', #Loss function(불순도 측도) v=0.24 {“mse”, “mae”, \"entropy\", ...}\n",
    "                                 splitter='best', #분류 방법 {“best”, “random”}\n",
    "                                 max_depth=10,\n",
    "                                 random_state=0)"
   ]
  },
  {
   "cell_type": "markdown",
   "id": "181a5e49",
   "metadata": {},
   "source": [
    "### Train and Validate"
   ]
  },
  {
   "cell_type": "code",
   "execution_count": 108,
   "id": "01ee2804",
   "metadata": {},
   "outputs": [],
   "source": [
    "models = [model_lr, model_dt]"
   ]
  },
  {
   "cell_type": "code",
   "execution_count": 109,
   "id": "6d052338",
   "metadata": {},
   "outputs": [],
   "source": [
    "def mse_loss(pre, y):\n",
    "    return ((pre-y)**2).mean()"
   ]
  },
  {
   "cell_type": "markdown",
   "id": "43cfbcbb",
   "metadata": {},
   "source": [
    "#### Train"
   ]
  },
  {
   "cell_type": "code",
   "execution_count": 110,
   "id": "02f74f89",
   "metadata": {},
   "outputs": [
    {
     "name": "stdout",
     "output_type": "stream",
     "text": [
      "LinearRegression() 0.5091421115634567\n",
      "DecisionTreeRegressor(criterion='mse', max_depth=10, random_state=0) 0.15145315379865906\n"
     ]
    },
    {
     "name": "stderr",
     "output_type": "stream",
     "text": [
      "/Applications/anaconda3/lib/python3.9/site-packages/sklearn/tree/_classes.py:359: FutureWarning: Criterion 'mse' was deprecated in v1.0 and will be removed in version 1.2. Use `criterion='squared_error'` which is equivalent.\n",
      "  warnings.warn(\n"
     ]
    }
   ],
   "source": [
    "for model in models:\n",
    "    model.fit(train_x, train_y)\n",
    "    pre = model.predict(train_x)\n",
    "    \n",
    "    loss_value = mse_loss(pre, train_y)\n",
    "    \n",
    "    print(model, loss_value)"
   ]
  },
  {
   "cell_type": "markdown",
   "id": "620c5d7f",
   "metadata": {},
   "source": [
    "#### Validate"
   ]
  },
  {
   "cell_type": "code",
   "execution_count": 111,
   "id": "29fcc8f5",
   "metadata": {},
   "outputs": [
    {
     "name": "stdout",
     "output_type": "stream",
     "text": [
      "LinearRegression() 0.1646222023065752\n",
      "DecisionTreeRegressor(criterion='mse', max_depth=10, random_state=0) 0.5350978036679479\n"
     ]
    }
   ],
   "source": [
    "for model in models:\n",
    "#     model.fit(val_x, val_y)\n",
    "    pre = model.predict(val_x)\n",
    "    \n",
    "    loss_value = mse_loss(pre, val_y)\n",
    "    \n",
    "    print(model, loss_value)"
   ]
  },
  {
   "cell_type": "markdown",
   "id": "28c5d0a4",
   "metadata": {},
   "source": [
    "#### Explain"
   ]
  },
  {
   "cell_type": "code",
   "execution_count": 112,
   "id": "c852a478",
   "metadata": {},
   "outputs": [
    {
     "name": "stdout",
     "output_type": "stream",
     "text": [
      "w: [ 4.42891430e-01  8.14188313e-03 -1.25883236e-01  6.70101612e-01\n",
      " -6.22537557e-06 -2.76324453e-03 -4.22497964e-01 -4.31661824e-01] , b: -36.4776949296395\n"
     ]
    }
   ],
   "source": [
    "print(\"w:\", model_lr.coef_, \", b:\", model_lr.intercept_)"
   ]
  },
  {
   "cell_type": "code",
   "execution_count": 113,
   "id": "8d8975b3",
   "metadata": {},
   "outputs": [],
   "source": [
    "from sklearn.tree import export_graphviz \n",
    "export_graphviz(model_dt, out_file ='tree.dot')\n",
    "# http://webgraphviz.com/"
   ]
  },
  {
   "cell_type": "markdown",
   "id": "18b97ec1",
   "metadata": {},
   "source": [
    "### Select Model"
   ]
  },
  {
   "cell_type": "code",
   "execution_count": 114,
   "id": "99878cae",
   "metadata": {},
   "outputs": [],
   "source": [
    "model_best = model_dt"
   ]
  }
 ],
 "metadata": {
  "kernelspec": {
   "display_name": "Python 3 (ipykernel)",
   "language": "python",
   "name": "python3"
  },
  "language_info": {
   "codemirror_mode": {
    "name": "ipython",
    "version": 3
   },
   "file_extension": ".py",
   "mimetype": "text/x-python",
   "name": "python",
   "nbconvert_exporter": "python",
   "pygments_lexer": "ipython3",
   "version": "3.9.12"
  }
 },
 "nbformat": 4,
 "nbformat_minor": 5
}
