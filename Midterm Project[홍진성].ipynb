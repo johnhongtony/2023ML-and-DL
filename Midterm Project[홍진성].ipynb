{
 "cells": [
  {
   "cell_type": "markdown",
   "id": "fb59f6a5",
   "metadata": {},
   "source": [
    "# Kaggle Project"
   ]
  },
  {
   "cell_type": "markdown",
   "id": "6e7897b9",
   "metadata": {},
   "source": [
    "## Describe Your Dataset"
   ]
  },
  {
   "cell_type": "markdown",
   "id": "7bd61811",
   "metadata": {},
   "source": [
    "### URL: https://www.kaggle.com/datasets/saratchendra/bike-price-prediction"
   ]
  },
  {
   "cell_type": "markdown",
   "id": "c44f601e",
   "metadata": {},
   "source": [
    "#### Task: Multiple linear regression\n",
    "- It is a simple way to work on the regression model to find out the important insights of the dataset.\n",
    "You would probably get to know about the feature importance by using validation techniques like\n",
    "'Variation Inflation Factor(VIF)'.\n",
    "Viewing the Data in Visualization.\n",
    "Comparing the training and test data.\n",
    "\n",
    "- Correlate multiple bike data with prices"
   ]
  },
  {
   "cell_type": "markdown",
   "id": "378beca6",
   "metadata": {},
   "source": [
    "#### Datasets\n",
    "\n",
    "- Here we are with a dataset contains 10 columns describing the features and 308 rows describing the specifications of bikes.\n",
    "\n",
    "- Train dataset: 240 row\n",
    "\n",
    "- Validation dataset: 62 row"
   ]
  },
  {
   "cell_type": "markdown",
   "id": "6712e8dd",
   "metadata": {},
   "source": [
    "#### Features(x):\n",
    "\n",
    "- (9Columns) unprocessed columns is S.no, Bike_company, Bike_model, Manufactured_year, Engine_warranty, Engine_type, Fuel_type, CC(Cubic capacity), Fuel_Capacity\n",
    "\n",
    "- (3Columns) Columns that are excluded because they are meaningless : S.no, Bike_company, Bike_model\n",
    "\n",
    "- (6Columns) Column used for analysis(x) : Manufactured_year, Engine_warranty, Engine_type, Fuel_type, CC(Cubic capacity), Fuel_Capacity\n",
    "\n",
    "#### Target(y):\n",
    "\n",
    "- Price Data"
   ]
  },
  {
   "cell_type": "markdown",
   "id": "3c2087d5",
   "metadata": {},
   "source": [
    "# Build Your Model\n",
    "\n",
    "## Data preprocessing & Model Construction\n",
    "\n",
    "이번 프로젝트에서 수행 할 패키지를 임포트하고 데이터셋을 로드합니다."
   ]
  },
  {
   "cell_type": "code",
   "execution_count": 94,
   "id": "61b3fc61",
   "metadata": {},
   "outputs": [],
   "source": [
    "import numpy as np\n",
    "import pandas as pd\n",
    "import matplotlib.pyplot as plt\n",
    "import seaborn as sns #데이터 시각화 - 밀도플롯 그래프를 그리기 위해 import"
   ]
  },
  {
   "cell_type": "code",
   "execution_count": 95,
   "id": "030c93f6",
   "metadata": {},
   "outputs": [],
   "source": [
    "data = pd.read_excel('./archive/Bike_Price_Prediction.xlsx', sheet_name=0)"
   ]
  },
  {
   "cell_type": "code",
   "execution_count": 96,
   "id": "0ca2ac48",
   "metadata": {},
   "outputs": [
    {
     "data": {
      "text/html": [
       "<div>\n",
       "<style scoped>\n",
       "    .dataframe tbody tr th:only-of-type {\n",
       "        vertical-align: middle;\n",
       "    }\n",
       "\n",
       "    .dataframe tbody tr th {\n",
       "        vertical-align: top;\n",
       "    }\n",
       "\n",
       "    .dataframe thead th {\n",
       "        text-align: right;\n",
       "    }\n",
       "</style>\n",
       "<table border=\"1\" class=\"dataframe\">\n",
       "  <thead>\n",
       "    <tr style=\"text-align: right;\">\n",
       "      <th></th>\n",
       "      <th>S.no</th>\n",
       "      <th>Bike_company</th>\n",
       "      <th>Bike_model</th>\n",
       "      <th>Manufactured_year</th>\n",
       "      <th>Engine_warranty</th>\n",
       "      <th>Engine_type</th>\n",
       "      <th>Fuel_type</th>\n",
       "      <th>CC(Cubic capacity)</th>\n",
       "      <th>Fuel_Capacity</th>\n",
       "      <th>Price</th>\n",
       "    </tr>\n",
       "  </thead>\n",
       "  <tbody>\n",
       "    <tr>\n",
       "      <th>0</th>\n",
       "      <td>1</td>\n",
       "      <td>Bajaj</td>\n",
       "      <td>Avenger 220</td>\n",
       "      <td>2020</td>\n",
       "      <td>5.0</td>\n",
       "      <td>Single</td>\n",
       "      <td>Petrol</td>\n",
       "      <td>220CC</td>\n",
       "      <td>10 Litres</td>\n",
       "      <td>113000</td>\n",
       "    </tr>\n",
       "    <tr>\n",
       "      <th>1</th>\n",
       "      <td>2</td>\n",
       "      <td>TVS</td>\n",
       "      <td>Apache RTR</td>\n",
       "      <td>2020</td>\n",
       "      <td>5.0</td>\n",
       "      <td>V-twin</td>\n",
       "      <td>Petrol</td>\n",
       "      <td>120CC</td>\n",
       "      <td>11 Litres</td>\n",
       "      <td>70000</td>\n",
       "    </tr>\n",
       "    <tr>\n",
       "      <th>2</th>\n",
       "      <td>3</td>\n",
       "      <td>Hero</td>\n",
       "      <td>Passion</td>\n",
       "      <td>2020</td>\n",
       "      <td>5.0</td>\n",
       "      <td>Boxer</td>\n",
       "      <td>Petrol</td>\n",
       "      <td>140CC</td>\n",
       "      <td>12 Litres</td>\n",
       "      <td>85000</td>\n",
       "    </tr>\n",
       "    <tr>\n",
       "      <th>3</th>\n",
       "      <td>4</td>\n",
       "      <td>Honda</td>\n",
       "      <td>Activa 3G</td>\n",
       "      <td>2020</td>\n",
       "      <td>5.0</td>\n",
       "      <td>Single</td>\n",
       "      <td>Petrol</td>\n",
       "      <td>150CC</td>\n",
       "      <td>13 Litres</td>\n",
       "      <td>90000</td>\n",
       "    </tr>\n",
       "    <tr>\n",
       "      <th>4</th>\n",
       "      <td>5</td>\n",
       "      <td>Suzuki</td>\n",
       "      <td>Access</td>\n",
       "      <td>2020</td>\n",
       "      <td>5.0</td>\n",
       "      <td>V-twin</td>\n",
       "      <td>Petrol</td>\n",
       "      <td>350CC</td>\n",
       "      <td>14 Litres</td>\n",
       "      <td>65000</td>\n",
       "    </tr>\n",
       "    <tr>\n",
       "      <th>...</th>\n",
       "      <td>...</td>\n",
       "      <td>...</td>\n",
       "      <td>...</td>\n",
       "      <td>...</td>\n",
       "      <td>...</td>\n",
       "      <td>...</td>\n",
       "      <td>...</td>\n",
       "      <td>...</td>\n",
       "      <td>...</td>\n",
       "      <td>...</td>\n",
       "    </tr>\n",
       "    <tr>\n",
       "      <th>303</th>\n",
       "      <td>304</td>\n",
       "      <td>Bgauss</td>\n",
       "      <td>Bgauss B8</td>\n",
       "      <td>2017</td>\n",
       "      <td>3.0</td>\n",
       "      <td>Boxer</td>\n",
       "      <td>Petrol</td>\n",
       "      <td>185CC</td>\n",
       "      <td>19 Litres</td>\n",
       "      <td>81916</td>\n",
       "    </tr>\n",
       "    <tr>\n",
       "      <th>304</th>\n",
       "      <td>305</td>\n",
       "      <td>Bgauss</td>\n",
       "      <td>Bgauss Radiator</td>\n",
       "      <td>2017</td>\n",
       "      <td>3.0</td>\n",
       "      <td>Boxer</td>\n",
       "      <td>Petrol</td>\n",
       "      <td>205CC</td>\n",
       "      <td>20 Litres</td>\n",
       "      <td>82666</td>\n",
       "    </tr>\n",
       "    <tr>\n",
       "      <th>305</th>\n",
       "      <td>306</td>\n",
       "      <td>Bgauss</td>\n",
       "      <td>Bgauss Razor</td>\n",
       "      <td>2017</td>\n",
       "      <td>3.0</td>\n",
       "      <td>Boxer</td>\n",
       "      <td>Petrol</td>\n",
       "      <td>185CC</td>\n",
       "      <td>21 Litres</td>\n",
       "      <td>83416</td>\n",
       "    </tr>\n",
       "    <tr>\n",
       "      <th>306</th>\n",
       "      <td>307</td>\n",
       "      <td>Bgauss</td>\n",
       "      <td>Bgauss Flash</td>\n",
       "      <td>2017</td>\n",
       "      <td>3.0</td>\n",
       "      <td>Boxer</td>\n",
       "      <td>Petrol</td>\n",
       "      <td>205CC</td>\n",
       "      <td>22 Litres</td>\n",
       "      <td>84166</td>\n",
       "    </tr>\n",
       "    <tr>\n",
       "      <th>307</th>\n",
       "      <td>308</td>\n",
       "      <td>Bgauss</td>\n",
       "      <td>Bgauss Hash</td>\n",
       "      <td>2017</td>\n",
       "      <td>3.0</td>\n",
       "      <td>Boxer</td>\n",
       "      <td>Petrol</td>\n",
       "      <td>220CC</td>\n",
       "      <td>23 Litres</td>\n",
       "      <td>84916</td>\n",
       "    </tr>\n",
       "  </tbody>\n",
       "</table>\n",
       "<p>308 rows × 10 columns</p>\n",
       "</div>"
      ],
      "text/plain": [
       "     S.no Bike_company       Bike_model  Manufactured_year  Engine_warranty  \\\n",
       "0       1        Bajaj      Avenger 220               2020              5.0   \n",
       "1       2          TVS       Apache RTR               2020              5.0   \n",
       "2       3         Hero          Passion               2020              5.0   \n",
       "3       4        Honda        Activa 3G               2020              5.0   \n",
       "4       5       Suzuki           Access               2020              5.0   \n",
       "..    ...          ...              ...                ...              ...   \n",
       "303   304       Bgauss        Bgauss B8               2017              3.0   \n",
       "304   305       Bgauss  Bgauss Radiator               2017              3.0   \n",
       "305   306       Bgauss     Bgauss Razor               2017              3.0   \n",
       "306   307       Bgauss     Bgauss Flash               2017              3.0   \n",
       "307   308       Bgauss      Bgauss Hash               2017              3.0   \n",
       "\n",
       "    Engine_type Fuel_type CC(Cubic capacity) Fuel_Capacity   Price  \n",
       "0        Single    Petrol              220CC     10 Litres  113000  \n",
       "1        V-twin    Petrol              120CC     11 Litres   70000  \n",
       "2         Boxer    Petrol              140CC     12 Litres   85000  \n",
       "3        Single    Petrol              150CC     13 Litres   90000  \n",
       "4        V-twin    Petrol              350CC     14 Litres   65000  \n",
       "..          ...       ...                ...           ...     ...  \n",
       "303       Boxer    Petrol              185CC     19 Litres   81916  \n",
       "304       Boxer    Petrol              205CC     20 Litres   82666  \n",
       "305       Boxer    Petrol              185CC     21 Litres   83416  \n",
       "306       Boxer    Petrol              205CC     22 Litres   84166  \n",
       "307       Boxer    Petrol              220CC     23 Litres   84916  \n",
       "\n",
       "[308 rows x 10 columns]"
      ]
     },
     "execution_count": 96,
     "metadata": {},
     "output_type": "execute_result"
    }
   ],
   "source": [
    "data"
   ]
  },
  {
   "cell_type": "markdown",
   "id": "f38bb1d6",
   "metadata": {},
   "source": [
    "### Data preprocessing\n",
    "\n",
    "기존 kaggle에서 받아온 오토바이 가격 데이터셋은 구현하려 하는 다중회귀분석에 알맞지 않은 문자열이 존재하여 \n",
    "모델에 적용할 수 있게 데이터를 전처리 해줍니다."
   ]
  },
  {
   "cell_type": "code",
   "execution_count": 97,
   "id": "906ed373",
   "metadata": {},
   "outputs": [],
   "source": [
    "data=data.drop(columns=['S.no','Bike_company','Bike_model']) #데이터 예측에 의미가 없는 컬럼 삭제\n",
    "data=data.dropna(axis=0) #데이터 정합성을 위해 데이터가 비워저 있는 행 삭제\n",
    "data=data[data.Manufactured_year > 2010] #데이터 정합성을 위해 2010년도 이전 데이터행 삭제\n",
    "data[\"CC(Cubic capacity)\"] = data[\"CC(Cubic capacity)\"].str.replace(pat='CC', repl=r'', regex=True) #CC컬럼의 'CC'가 붙어있는 문자 삭제\n",
    "data[\"Fuel_Capacity\"] = data[\"Fuel_Capacity\"].str.replace(pat=' Litres', repl=r'', regex=True) #연료컬럼의 붙어있는 문자 삭제\n",
    "data[\"Fuel_Capacity\"] = data[\"Fuel_Capacity\"].str.replace(pat='Battery', repl='0', regex=True) #연료컬럼의 '배터리'를 '0'으로 변환(Fuel_type에서 전기오토바이는 식별 가능)"
   ]
  },
  {
   "cell_type": "code",
   "execution_count": 98,
   "id": "5ef0c045",
   "metadata": {},
   "outputs": [
    {
     "data": {
      "text/html": [
       "<div>\n",
       "<style scoped>\n",
       "    .dataframe tbody tr th:only-of-type {\n",
       "        vertical-align: middle;\n",
       "    }\n",
       "\n",
       "    .dataframe tbody tr th {\n",
       "        vertical-align: top;\n",
       "    }\n",
       "\n",
       "    .dataframe thead th {\n",
       "        text-align: right;\n",
       "    }\n",
       "</style>\n",
       "<table border=\"1\" class=\"dataframe\">\n",
       "  <thead>\n",
       "    <tr style=\"text-align: right;\">\n",
       "      <th></th>\n",
       "      <th>Manufactured_year</th>\n",
       "      <th>Engine_warranty</th>\n",
       "      <th>Engine_type</th>\n",
       "      <th>Fuel_type</th>\n",
       "      <th>CC(Cubic capacity)</th>\n",
       "      <th>Fuel_Capacity</th>\n",
       "      <th>Price</th>\n",
       "    </tr>\n",
       "  </thead>\n",
       "  <tbody>\n",
       "    <tr>\n",
       "      <th>0</th>\n",
       "      <td>2020</td>\n",
       "      <td>5.0</td>\n",
       "      <td>Single</td>\n",
       "      <td>Petrol</td>\n",
       "      <td>220</td>\n",
       "      <td>10</td>\n",
       "      <td>113000</td>\n",
       "    </tr>\n",
       "    <tr>\n",
       "      <th>1</th>\n",
       "      <td>2020</td>\n",
       "      <td>5.0</td>\n",
       "      <td>V-twin</td>\n",
       "      <td>Petrol</td>\n",
       "      <td>120</td>\n",
       "      <td>11</td>\n",
       "      <td>70000</td>\n",
       "    </tr>\n",
       "    <tr>\n",
       "      <th>2</th>\n",
       "      <td>2020</td>\n",
       "      <td>5.0</td>\n",
       "      <td>Boxer</td>\n",
       "      <td>Petrol</td>\n",
       "      <td>140</td>\n",
       "      <td>12</td>\n",
       "      <td>85000</td>\n",
       "    </tr>\n",
       "    <tr>\n",
       "      <th>3</th>\n",
       "      <td>2020</td>\n",
       "      <td>5.0</td>\n",
       "      <td>Single</td>\n",
       "      <td>Petrol</td>\n",
       "      <td>150</td>\n",
       "      <td>13</td>\n",
       "      <td>90000</td>\n",
       "    </tr>\n",
       "    <tr>\n",
       "      <th>4</th>\n",
       "      <td>2020</td>\n",
       "      <td>5.0</td>\n",
       "      <td>V-twin</td>\n",
       "      <td>Petrol</td>\n",
       "      <td>350</td>\n",
       "      <td>14</td>\n",
       "      <td>65000</td>\n",
       "    </tr>\n",
       "    <tr>\n",
       "      <th>...</th>\n",
       "      <td>...</td>\n",
       "      <td>...</td>\n",
       "      <td>...</td>\n",
       "      <td>...</td>\n",
       "      <td>...</td>\n",
       "      <td>...</td>\n",
       "      <td>...</td>\n",
       "    </tr>\n",
       "    <tr>\n",
       "      <th>303</th>\n",
       "      <td>2017</td>\n",
       "      <td>3.0</td>\n",
       "      <td>Boxer</td>\n",
       "      <td>Petrol</td>\n",
       "      <td>185</td>\n",
       "      <td>19</td>\n",
       "      <td>81916</td>\n",
       "    </tr>\n",
       "    <tr>\n",
       "      <th>304</th>\n",
       "      <td>2017</td>\n",
       "      <td>3.0</td>\n",
       "      <td>Boxer</td>\n",
       "      <td>Petrol</td>\n",
       "      <td>205</td>\n",
       "      <td>20</td>\n",
       "      <td>82666</td>\n",
       "    </tr>\n",
       "    <tr>\n",
       "      <th>305</th>\n",
       "      <td>2017</td>\n",
       "      <td>3.0</td>\n",
       "      <td>Boxer</td>\n",
       "      <td>Petrol</td>\n",
       "      <td>185</td>\n",
       "      <td>21</td>\n",
       "      <td>83416</td>\n",
       "    </tr>\n",
       "    <tr>\n",
       "      <th>306</th>\n",
       "      <td>2017</td>\n",
       "      <td>3.0</td>\n",
       "      <td>Boxer</td>\n",
       "      <td>Petrol</td>\n",
       "      <td>205</td>\n",
       "      <td>22</td>\n",
       "      <td>84166</td>\n",
       "    </tr>\n",
       "    <tr>\n",
       "      <th>307</th>\n",
       "      <td>2017</td>\n",
       "      <td>3.0</td>\n",
       "      <td>Boxer</td>\n",
       "      <td>Petrol</td>\n",
       "      <td>220</td>\n",
       "      <td>23</td>\n",
       "      <td>84916</td>\n",
       "    </tr>\n",
       "  </tbody>\n",
       "</table>\n",
       "<p>302 rows × 7 columns</p>\n",
       "</div>"
      ],
      "text/plain": [
       "     Manufactured_year  Engine_warranty Engine_type Fuel_type  \\\n",
       "0                 2020              5.0      Single    Petrol   \n",
       "1                 2020              5.0      V-twin    Petrol   \n",
       "2                 2020              5.0       Boxer    Petrol   \n",
       "3                 2020              5.0      Single    Petrol   \n",
       "4                 2020              5.0      V-twin    Petrol   \n",
       "..                 ...              ...         ...       ...   \n",
       "303               2017              3.0       Boxer    Petrol   \n",
       "304               2017              3.0       Boxer    Petrol   \n",
       "305               2017              3.0       Boxer    Petrol   \n",
       "306               2017              3.0       Boxer    Petrol   \n",
       "307               2017              3.0       Boxer    Petrol   \n",
       "\n",
       "    CC(Cubic capacity) Fuel_Capacity   Price  \n",
       "0                  220            10  113000  \n",
       "1                  120            11   70000  \n",
       "2                  140            12   85000  \n",
       "3                  150            13   90000  \n",
       "4                  350            14   65000  \n",
       "..                 ...           ...     ...  \n",
       "303                185            19   81916  \n",
       "304                205            20   82666  \n",
       "305                185            21   83416  \n",
       "306                205            22   84166  \n",
       "307                220            23   84916  \n",
       "\n",
       "[302 rows x 7 columns]"
      ]
     },
     "execution_count": 98,
     "metadata": {},
     "output_type": "execute_result"
    }
   ],
   "source": [
    "data"
   ]
  },
  {
   "cell_type": "code",
   "execution_count": 99,
   "id": "7b2f0db0",
   "metadata": {},
   "outputs": [
    {
     "data": {
      "text/plain": [
       "Manufactured_year       int64\n",
       "Engine_warranty       float64\n",
       "Engine_type             int64\n",
       "Fuel_type               int64\n",
       "CC(Cubic capacity)     object\n",
       "Fuel_Capacity          object\n",
       "Price                   int64\n",
       "dtype: object"
      ]
     },
     "execution_count": 99,
     "metadata": {},
     "output_type": "execute_result"
    }
   ],
   "source": [
    "data['Engine_type'].replace({'Boxer':1, 'Dual Stroke':2, 'Oxidiser-Air inlet':3, 'Single':4, 'Two-Stroke':5, 'V-twin':6},inplace=True)\n",
    "#해당 엔진타입을 넣고 모델 학습결과 예측값에 상관없이 회귀계수가 나와 해당 데이터 삭제 \n",
    "data['Fuel_type'].replace({'Petrol':1, 'Electricity':2},inplace=True)\n",
    "data.dtypes"
   ]
  },
  {
   "cell_type": "code",
   "execution_count": 100,
   "id": "ce701b61",
   "metadata": {},
   "outputs": [
    {
     "data": {
      "text/plain": [
       "Manufactured_year     int64\n",
       "Engine_warranty       int64\n",
       "Engine_type           int64\n",
       "Fuel_type             int64\n",
       "CC(Cubic capacity)    int64\n",
       "Fuel_Capacity         int64\n",
       "Price                 int64\n",
       "dtype: object"
      ]
     },
     "execution_count": 100,
     "metadata": {},
     "output_type": "execute_result"
    }
   ],
   "source": [
    "data = data.astype(dtype='int64', errors='ignore') #변경 가능한 data type을 int형으로 변경\n",
    "data.dtypes"
   ]
  },
  {
   "cell_type": "code",
   "execution_count": 101,
   "id": "4cf2b2a4",
   "metadata": {},
   "outputs": [
    {
     "data": {
      "text/html": [
       "<div>\n",
       "<style scoped>\n",
       "    .dataframe tbody tr th:only-of-type {\n",
       "        vertical-align: middle;\n",
       "    }\n",
       "\n",
       "    .dataframe tbody tr th {\n",
       "        vertical-align: top;\n",
       "    }\n",
       "\n",
       "    .dataframe thead th {\n",
       "        text-align: right;\n",
       "    }\n",
       "</style>\n",
       "<table border=\"1\" class=\"dataframe\">\n",
       "  <thead>\n",
       "    <tr style=\"text-align: right;\">\n",
       "      <th></th>\n",
       "      <th>Manufactured_year</th>\n",
       "      <th>Engine_warranty</th>\n",
       "      <th>Engine_type</th>\n",
       "      <th>Fuel_type</th>\n",
       "      <th>CC(Cubic capacity)</th>\n",
       "      <th>Fuel_Capacity</th>\n",
       "      <th>Price</th>\n",
       "    </tr>\n",
       "  </thead>\n",
       "  <tbody>\n",
       "    <tr>\n",
       "      <th>0</th>\n",
       "      <td>2020</td>\n",
       "      <td>5</td>\n",
       "      <td>4</td>\n",
       "      <td>1</td>\n",
       "      <td>220</td>\n",
       "      <td>10</td>\n",
       "      <td>113000</td>\n",
       "    </tr>\n",
       "    <tr>\n",
       "      <th>1</th>\n",
       "      <td>2020</td>\n",
       "      <td>5</td>\n",
       "      <td>6</td>\n",
       "      <td>1</td>\n",
       "      <td>120</td>\n",
       "      <td>11</td>\n",
       "      <td>70000</td>\n",
       "    </tr>\n",
       "    <tr>\n",
       "      <th>2</th>\n",
       "      <td>2020</td>\n",
       "      <td>5</td>\n",
       "      <td>1</td>\n",
       "      <td>1</td>\n",
       "      <td>140</td>\n",
       "      <td>12</td>\n",
       "      <td>85000</td>\n",
       "    </tr>\n",
       "    <tr>\n",
       "      <th>3</th>\n",
       "      <td>2020</td>\n",
       "      <td>5</td>\n",
       "      <td>4</td>\n",
       "      <td>1</td>\n",
       "      <td>150</td>\n",
       "      <td>13</td>\n",
       "      <td>90000</td>\n",
       "    </tr>\n",
       "    <tr>\n",
       "      <th>4</th>\n",
       "      <td>2020</td>\n",
       "      <td>5</td>\n",
       "      <td>6</td>\n",
       "      <td>1</td>\n",
       "      <td>350</td>\n",
       "      <td>14</td>\n",
       "      <td>65000</td>\n",
       "    </tr>\n",
       "    <tr>\n",
       "      <th>...</th>\n",
       "      <td>...</td>\n",
       "      <td>...</td>\n",
       "      <td>...</td>\n",
       "      <td>...</td>\n",
       "      <td>...</td>\n",
       "      <td>...</td>\n",
       "      <td>...</td>\n",
       "    </tr>\n",
       "    <tr>\n",
       "      <th>303</th>\n",
       "      <td>2017</td>\n",
       "      <td>3</td>\n",
       "      <td>1</td>\n",
       "      <td>1</td>\n",
       "      <td>185</td>\n",
       "      <td>19</td>\n",
       "      <td>81916</td>\n",
       "    </tr>\n",
       "    <tr>\n",
       "      <th>304</th>\n",
       "      <td>2017</td>\n",
       "      <td>3</td>\n",
       "      <td>1</td>\n",
       "      <td>1</td>\n",
       "      <td>205</td>\n",
       "      <td>20</td>\n",
       "      <td>82666</td>\n",
       "    </tr>\n",
       "    <tr>\n",
       "      <th>305</th>\n",
       "      <td>2017</td>\n",
       "      <td>3</td>\n",
       "      <td>1</td>\n",
       "      <td>1</td>\n",
       "      <td>185</td>\n",
       "      <td>21</td>\n",
       "      <td>83416</td>\n",
       "    </tr>\n",
       "    <tr>\n",
       "      <th>306</th>\n",
       "      <td>2017</td>\n",
       "      <td>3</td>\n",
       "      <td>1</td>\n",
       "      <td>1</td>\n",
       "      <td>205</td>\n",
       "      <td>22</td>\n",
       "      <td>84166</td>\n",
       "    </tr>\n",
       "    <tr>\n",
       "      <th>307</th>\n",
       "      <td>2017</td>\n",
       "      <td>3</td>\n",
       "      <td>1</td>\n",
       "      <td>1</td>\n",
       "      <td>220</td>\n",
       "      <td>23</td>\n",
       "      <td>84916</td>\n",
       "    </tr>\n",
       "  </tbody>\n",
       "</table>\n",
       "<p>302 rows × 7 columns</p>\n",
       "</div>"
      ],
      "text/plain": [
       "     Manufactured_year  Engine_warranty  Engine_type  Fuel_type  \\\n",
       "0                 2020                5            4          1   \n",
       "1                 2020                5            6          1   \n",
       "2                 2020                5            1          1   \n",
       "3                 2020                5            4          1   \n",
       "4                 2020                5            6          1   \n",
       "..                 ...              ...          ...        ...   \n",
       "303               2017                3            1          1   \n",
       "304               2017                3            1          1   \n",
       "305               2017                3            1          1   \n",
       "306               2017                3            1          1   \n",
       "307               2017                3            1          1   \n",
       "\n",
       "     CC(Cubic capacity)  Fuel_Capacity   Price  \n",
       "0                   220             10  113000  \n",
       "1                   120             11   70000  \n",
       "2                   140             12   85000  \n",
       "3                   150             13   90000  \n",
       "4                   350             14   65000  \n",
       "..                  ...            ...     ...  \n",
       "303                 185             19   81916  \n",
       "304                 205             20   82666  \n",
       "305                 185             21   83416  \n",
       "306                 205             22   84166  \n",
       "307                 220             23   84916  \n",
       "\n",
       "[302 rows x 7 columns]"
      ]
     },
     "execution_count": 101,
     "metadata": {},
     "output_type": "execute_result"
    }
   ],
   "source": [
    "data"
   ]
  },
  {
   "cell_type": "code",
   "execution_count": 102,
   "id": "e56e581a",
   "metadata": {},
   "outputs": [],
   "source": [
    "data = data[['Manufactured_year','Engine_warranty','Engine_type','Fuel_type','CC(Cubic capacity)','Fuel_Capacity','Price']].values\n",
    "# (기존) xlsx 형식의 데이터를 .values를 통해 -> (변경) array형으로 변환  ,'Engine_type' ->제외"
   ]
  },
  {
   "cell_type": "code",
   "execution_count": 103,
   "id": "e451c42d",
   "metadata": {},
   "outputs": [
    {
     "data": {
      "text/plain": [
       "array([[  2020,      5,      4, ...,    220,     10, 113000],\n",
       "       [  2020,      5,      6, ...,    120,     11,  70000],\n",
       "       [  2020,      5,      1, ...,    140,     12,  85000],\n",
       "       ...,\n",
       "       [  2017,      3,      1, ...,    185,     21,  83416],\n",
       "       [  2017,      3,      1, ...,    205,     22,  84166],\n",
       "       [  2017,      3,      1, ...,    220,     23,  84916]], dtype=int64)"
      ]
     },
     "execution_count": 103,
     "metadata": {},
     "output_type": "execute_result"
    }
   ],
   "source": [
    "data"
   ]
  },
  {
   "cell_type": "markdown",
   "id": "f0176fd6",
   "metadata": {},
   "source": [
    "### Split Data: Train data, Validation Data"
   ]
  },
  {
   "cell_type": "code",
   "execution_count": 104,
   "id": "92c13116",
   "metadata": {},
   "outputs": [],
   "source": [
    "train_len = 240 #전체 data의 80% 를 훈련데이터로 사용\n",
    "train_idxs = np.random.choice(len(data), train_len, replace=False) #index정의\n",
    "train_data = data[train_idxs] \n",
    "#위file data에 index형식에 맞게 뽑아 train_data를 선언(data[].values를 통해 array형식으로 변환하지 않으면 index와 매핑불가)"
   ]
  },
  {
   "cell_type": "code",
   "execution_count": 105,
   "id": "77a07bfb",
   "metadata": {},
   "outputs": [],
   "source": [
    "val_idxs = [idx for idx in range(len(data)) if idx not in train_idxs] #validation Data정의\n",
    "val_data = data[val_idxs] #validation Data 선언"
   ]
  },
  {
   "cell_type": "code",
   "execution_count": 106,
   "id": "891ee707",
   "metadata": {},
   "outputs": [
    {
     "data": {
      "text/plain": [
       "((240, 7), (62, 7))"
      ]
     },
     "execution_count": 106,
     "metadata": {},
     "output_type": "execute_result"
    }
   ],
   "source": [
    "train_data.shape, val_data.shape"
   ]
  },
  {
   "cell_type": "markdown",
   "id": "249d379a",
   "metadata": {},
   "source": [
    "### Train Model & Select Model"
   ]
  },
  {
   "cell_type": "code",
   "execution_count": 107,
   "id": "a613418c",
   "metadata": {},
   "outputs": [],
   "source": [
    "from sklearn.linear_model import LinearRegression"
   ]
  },
  {
   "cell_type": "code",
   "execution_count": 108,
   "id": "d62e23d3",
   "metadata": {},
   "outputs": [],
   "source": [
    "model_lr = LinearRegression(fit_intercept=True) \n",
    "# Loss function is fixed to MSE., fit_intercept를 True로 하면 y절편 값을 구하고, False로 하면 그러지 않는다."
   ]
  },
  {
   "cell_type": "code",
   "execution_count": 109,
   "id": "623d712b",
   "metadata": {},
   "outputs": [],
   "source": [
    "from sklearn.tree import DecisionTreeRegressor"
   ]
  },
  {
   "cell_type": "code",
   "execution_count": 110,
   "id": "023f4a4e",
   "metadata": {},
   "outputs": [],
   "source": [
    "model_dt = DecisionTreeRegressor(#criterion='squared_error', # latest version {“squared_error”, “absolute_error”, ...}\n",
    "                                 criterion='squared_error', # v=0.24 {“mse”, “mae”, ...}\n",
    "                                 splitter='best', # {“best”, “random”}\n",
    "                                 max_depth=10, #tree의 깊이를 2로 설정\n",
    "                                 random_state=0) # random state를 '0'으로 설정하여 항상 같 순서의 데이터 사용"
   ]
  },
  {
   "cell_type": "code",
   "execution_count": 111,
   "id": "8c194dfb",
   "metadata": {},
   "outputs": [],
   "source": [
    "models = [model_lr, model_dt] #model_lr 과 model_dt를 배열로 담음(models)"
   ]
  },
  {
   "cell_type": "code",
   "execution_count": 112,
   "id": "fd19f444",
   "metadata": {},
   "outputs": [],
   "source": [
    "def mse_loss(pre, y):                   #mse loss function정의\n",
    "    return ((pre-y)**2).mean()"
   ]
  },
  {
   "cell_type": "code",
   "execution_count": 113,
   "id": "bb3a60ec",
   "metadata": {},
   "outputs": [
    {
     "data": {
      "text/plain": [
       "((240, 7), (62, 7))"
      ]
     },
     "execution_count": 113,
     "metadata": {},
     "output_type": "execute_result"
    }
   ],
   "source": [
    "train_data.shape, val_data.shape"
   ]
  },
  {
   "cell_type": "code",
   "execution_count": 114,
   "id": "ca2ddc27",
   "metadata": {},
   "outputs": [
    {
     "name": "stdout",
     "output_type": "stream",
     "text": [
      "(240, 6) (240,)\n"
     ]
    },
    {
     "data": {
      "text/plain": [
       "(array([[2016,    2,    4,    2,  130,    0],\n",
       "        [2018,    6,    4,    1,  500,   23],\n",
       "        [2017,   10,    6,    1,  300,   17],\n",
       "        ...,\n",
       "        [2019,    4,    1,    1,  205,   15],\n",
       "        [2020,    5,    6,    1,  350,   14],\n",
       "        [2020,    4,    5,    1,  500,   32]], dtype=int64),\n",
       " array([  65000,  459090,  130000,   69000,   69999,   95000,   67000,\n",
       "          81916,   81000,   83416,  449090,   89000,  350000,  260099,\n",
       "          68000,   74000,  155000,   77999,   61000,  232000,   62000,\n",
       "          74000,   99999,  189000,  195999,   80000,  135000,   61000,\n",
       "          56700,   76000,  350000,  539090,  106000,   67989,  350000,\n",
       "         439090,   63599,  150000,   92400,  180000,  150000,   84166,\n",
       "          89000,   74000,  124500,  219500,  190000,   80000,   97999,\n",
       "         155000,  990000,   99599,  101000,  103000,   70000,   68000,\n",
       "         195999,   61568,   73000,   71000,   87999,   63400,   86000,\n",
       "          64500,  109000,  978999,   82666,  255000,  390000,   65000,\n",
       "         240000,   55000,  199999,  124500,  109999,  590000,   70000,\n",
       "          90000,  189000,  101000,   63599,   69879,  134500,   61000,\n",
       "         345000,   74000,  439090,   90000,  300000,  459999,  134500,\n",
       "         145000,   77990,  790000,  185999,   79999,  350000,   76500,\n",
       "         134500,   87000,  320000,   62000, 1579999,   99000,   73000,\n",
       "         124500,   65000,  130000,  199599,  189000,  103000,   70000,\n",
       "          65000,  550000,  135000,   87999,  550000,  123400,   65000,\n",
       "         359999,   61568,   99000,   55000,   97999,  549999,  249999,\n",
       "         250000,  490000,   87999,  790000,   65000,  320900,  629999,\n",
       "          54700,  440000,   65000,  250000,  545909,  359999,  790000,\n",
       "         409090,  185999,   79999,  190099,  380000,  103000,   74500,\n",
       "        1779990,  259999,   73000,  890000,  155000,   79999,  579999,\n",
       "          86000,  350000,   76000,  109999,  479999,  879999,  260000,\n",
       "          71000, 1200000,   75099,   79999,   75000,   62500,  230000,\n",
       "          65000,   50000,   76550, 1679900,  195999,  199000,   81166,\n",
       "          65000,   85000,  189000,   76590,   77000,   76500, 1234500,\n",
       "          65000,  790000,  898999,  650000,  679999,   73000,   95599,\n",
       "          79000,  650000,   69000,   99000,   64000, 1379999,  809999,\n",
       "         623000,  950000,   85000,  103000,  135000,   66000,  379999,\n",
       "         114000,   63000,   55000,   65000,  399999,   67989,   66000,\n",
       "         330000,   90000,  124500,  320000,  390000,   65000,  629999,\n",
       "         219500,   85000,   69879,  113000,  678999,   79099,   55000,\n",
       "         650000,   89000,  145000,   64600,  180000,   75000,  135000,\n",
       "          75000,  689999,   74500,  389999,   80416,   64000,   78000,\n",
       "          65000,  990000], dtype=int64))"
      ]
     },
     "execution_count": 114,
     "metadata": {},
     "output_type": "execute_result"
    }
   ],
   "source": [
    "x = train_data[:, 0:6]   # train data를 리스트x로 저장 [0:6 -> 인덱스 0~6까지 즉 '6'번째 인덱스만큼 열로]\n",
    "y = train_data[:, 6]     # train data를 리스트y로 저장 [ '7열'의 가격 데이터를 종속변수로 설정]\n",
    "\n",
    "print(x.shape, y.shape)\n",
    "x, y"
   ]
  },
  {
   "cell_type": "code",
   "execution_count": 115,
   "id": "9eeda6a8",
   "metadata": {},
   "outputs": [
    {
     "name": "stdout",
     "output_type": "stream",
     "text": [
      "LinearRegression() 26878024648.946087\n",
      "DecisionTreeRegressor(max_depth=10, random_state=0) 182666869.94374338\n"
     ]
    }
   ],
   "source": [
    "for model in models:\n",
    "    model.fit(x, y)                    # sklearn의 .fit method를 사용하여 train data로 선언한 x와y를 훈련시킴\n",
    "    pre = model.predict(x)             # sklearn의 .predict()을 사용하여 훈련에 대한 예측값을 pre에 담음\n",
    "    \n",
    "    loss_value = mse_loss(pre, y)      # mse로스를 사용하여 예측값과 실제 label값의 로스를 담음\n",
    "    \n",
    "    print(model, loss_value)"
   ]
  },
  {
   "cell_type": "code",
   "execution_count": 116,
   "id": "da1ee5a6",
   "metadata": {},
   "outputs": [
    {
     "name": "stdout",
     "output_type": "stream",
     "text": [
      "[ -6211.95631544   4339.30840055  -8275.81868003 102752.41169996\n",
      "   1052.1154635    7617.50740754]\n"
     ]
    }
   ],
   "source": [
    "print(model_lr.coef_) #회귀계수 확인  ex) y= b + m1x1 + m2x2 + ... + mnxn 에서 m1~mn에 해당되는 계수"
   ]
  },
  {
   "cell_type": "markdown",
   "id": "5c793113",
   "metadata": {},
   "source": [
    "###  Validate"
   ]
  },
  {
   "cell_type": "code",
   "execution_count": 117,
   "id": "070e14e6",
   "metadata": {},
   "outputs": [
    {
     "name": "stdout",
     "output_type": "stream",
     "text": [
      "(240, 6) (240,)\n"
     ]
    }
   ],
   "source": [
    "x_val = val_data[:, 0:6]\n",
    "y_val = val_data[:, 6]\n",
    "\n",
    "print(x.shape, y.shape)"
   ]
  },
  {
   "cell_type": "code",
   "execution_count": 118,
   "id": "7c4e0b6d",
   "metadata": {},
   "outputs": [
    {
     "name": "stdout",
     "output_type": "stream",
     "text": [
      "LinearRegression() 26878024648.946087\n",
      "DecisionTreeRegressor(max_depth=10, random_state=0) 182666869.94374338\n"
     ]
    }
   ],
   "source": [
    "for model in models:\n",
    "    \n",
    "    pre = model.predict(x)\n",
    "    loss_value = mse_loss(pre, y)\n",
    "    \n",
    "    print(model, loss_value)"
   ]
  },
  {
   "cell_type": "code",
   "execution_count": 119,
   "id": "d150995f",
   "metadata": {},
   "outputs": [
    {
     "name": "stdout",
     "output_type": "stream",
     "text": [
      "w: [ -6211.95631544   4339.30840055  -8275.81868003 102752.41169996\n",
      "   1052.1154635    7617.50740754] , b: 12228577.671130849\n"
     ]
    }
   ],
   "source": [
    "print(\"w:\", model_lr.coef_, \", b:\", model_lr.intercept_)  #기울기 와 절편 확인"
   ]
  },
  {
   "cell_type": "code",
   "execution_count": 120,
   "id": "c0bdc575",
   "metadata": {},
   "outputs": [
    {
     "data": {
      "text/plain": [
       "0.6935440858019241"
      ]
     },
     "execution_count": 120,
     "metadata": {},
     "output_type": "execute_result"
    }
   ],
   "source": [
    "model_lr.score(x, y)"
   ]
  },
  {
   "cell_type": "code",
   "execution_count": 121,
   "id": "c9735352",
   "metadata": {},
   "outputs": [
    {
     "data": {
      "text/plain": [
       "0.9979172821160239"
      ]
     },
     "execution_count": 121,
     "metadata": {},
     "output_type": "execute_result"
    }
   ],
   "source": [
    "model_dt.score(x, y)"
   ]
  },
  {
   "cell_type": "code",
   "execution_count": 122,
   "id": "2545a00c",
   "metadata": {},
   "outputs": [],
   "source": [
    "model_best = model_dt"
   ]
  },
  {
   "cell_type": "markdown",
   "id": "1cc730b3",
   "metadata": {},
   "source": [
    "### Performance"
   ]
  },
  {
   "cell_type": "code",
   "execution_count": 123,
   "id": "aba0082f",
   "metadata": {},
   "outputs": [
    {
     "name": "stderr",
     "output_type": "stream",
     "text": [
      "C:\\Users\\Public\\Documents\\ESTsoft\\CreatorTemp\\ipykernel_22800\\959697436.py:2: FutureWarning: \n",
      "\n",
      "`shade` is now deprecated in favor of `fill`; setting `fill=True`.\n",
      "This will become an error in seaborn v0.14.0; please update your code.\n",
      "\n",
      "  ax1 = sns.kdeplot(y, label=\"y_test\", shade='True')\n",
      "C:\\Users\\Public\\Documents\\ESTsoft\\CreatorTemp\\ipykernel_22800\\959697436.py:3: FutureWarning: \n",
      "\n",
      "`shade` is now deprecated in favor of `fill`; setting `fill=True`.\n",
      "This will become an error in seaborn v0.14.0; please update your code.\n",
      "\n",
      "  ax2 = sns.kdeplot(y_val, label='y_val', shade='True')\n"
     ]
    },
    {
     "data": {
      "image/png": "[encoded data removed]",
      "text/plain": [
       "<Figure size 1000x500 with 1 Axes>"
      ]
     },
     "metadata": {},
     "output_type": "display_data"
    }
   ],
   "source": [
    "plt.figure(figsize=(10,5))   #그래프 사이즈 조절\n",
    "ax1 = sns.kdeplot(y, label=\"y_test\", shade='True') \n",
    "ax2 = sns.kdeplot(y_val, label='y_val', shade='True')\n",
    "plt.legend()  #범례표시\n",
    "plt.show()"
   ]
  }
 ],
 "metadata": {
  "kernelspec": {
   "display_name": "Python 3 (ipykernel)",
   "language": "python",
   "name": "python3"
  },
  "language_info": {
   "codemirror_mode": {
    "name": "ipython",
    "version": 3
   },
   "file_extension": ".py",
   "mimetype": "text/x-python",
   "name": "python",
   "nbconvert_exporter": "python",
   "pygments_lexer": "ipython3",
   "version": "3.10.9"
  }
 },
 "nbformat": 4,
 "nbformat_minor": 5
}
