{
 "cells": [
  {
   "cell_type": "markdown",
   "id": "0f7863c2",
   "metadata": {},
   "source": [
    "# 1. Import"
   ]
  },
  {
   "cell_type": "code",
   "execution_count": 1,
   "id": "8e939c58",
   "metadata": {},
   "outputs": [],
   "source": [
    "import torch\n",
    "import torch.nn as nn\n",
    "import torch.optim as optim\n",
    "import torch.nn.functional as F\n",
    "from torchvision import transforms\n",
    "from torchvision.transforms import ToPILImage\n",
    "from IPython.display import display\n",
    "from torch.utils.data import Dataset, DataLoader, random_split\n",
    "from PIL import Image\n",
    "import os\n",
    "import matplotlib.pyplot as plt"
   ]
  },
  {
   "cell_type": "markdown",
   "id": "18b959e8",
   "metadata": {},
   "source": [
    "# 2. 데이터셋 Class정의"
   ]
  },
  {
   "cell_type": "code",
   "execution_count": 5,
   "id": "19cddb90",
   "metadata": {},
   "outputs": [],
   "source": [
    "class CustomDataset(Dataset):\n",
    "    def __init__(self, transform=None):\n",
    "        self.transform = transform\n",
    "        self.fire_images = []\n",
    "        self.non_fire_images = []\n",
    "\n",
    "        # 화재 이미지 경로 설정\n",
    "        fire_path = './fire_dataset/fire_images'\n",
    "        fire_files = os.listdir(fire_path)\n",
    "        for f in fire_files:\n",
    "            img = Image.open(os.path.join(fire_path, f)).convert('RGB')\n",
    "            self.fire_images.append(img)\n",
    "\n",
    "        # 비화재 이미지 경로 설정\n",
    "        non_fire_path = './fire_dataset/non_fire_images'\n",
    "        non_fire_files = os.listdir(non_fire_path)\n",
    "        for f in non_fire_files:\n",
    "            img = Image.open(os.path.join(non_fire_path, f)).convert('RGB')\n",
    "            self.non_fire_images.append(img)\n",
    "\n",
    "    def __len__(self):\n",
    "        # 데이터셋 전체 크기 반환\n",
    "        return len(self.fire_images) + len(self.non_fire_images)\n",
    "\n",
    "    def __getitem__(self, idx):\n",
    "        if idx < len(self.fire_images):\n",
    "            # idx가 화재 이미지의 개수보다 작으면 화재 이미지를 반환\n",
    "            img = self.fire_images[idx]\n",
    "            label = torch.tensor(1)  # 1: fire_images\n",
    "        else:\n",
    "            # idx가 화재 이미지의 개수 이상이면 비화재 이미지를 반환\n",
    "            img = self.non_fire_images[idx - len(self.fire_images)]\n",
    "            label = torch.tensor(0)  # 0: non_fire_images\n",
    "\n",
    "        if self.transform:\n",
    "            # 데이터셋 변환을 위한 transform이 설정되어 있으면 반환\n",
    "            img = self.transform(img)\n",
    "\n",
    "        return img, label"
   ]
  },
  {
   "cell_type": "markdown",
   "id": "7cf90d45",
   "metadata": {},
   "source": [
    "# 3. 데이터셋 생성 및 데이터전처리"
   ]
  },
  {
   "cell_type": "code",
   "execution_count": 6,
   "id": "e16d7786",
   "metadata": {},
   "outputs": [],
   "source": [
    "#####################################################################################################################################\n",
    "### Crop / flip / rotation을 사용하여 데이터 전처리 추가\n",
    "transform = transforms.Compose([\n",
    "    transforms.RandomResizedCrop(64),       ### 무작위로 이미지 일부를 잘라내어 (64, 64) 크기로 만듭니다.\n",
    "    transforms.RandomHorizontalFlip(p=0.5),      ### 이미지를 무작위로 수평으로 뒤집습니다.\n",
    "    transforms.RandomRotation(10),          ### 이미지를 최대 10도 무작위로 회전시킵니다.\n",
    "    transforms.RandomGrayscale(p=0.1),\n",
    "    transforms.ToTensor(),                  ### 이미지를 Tensor로 변환합니다.\n",
    "    transforms.Normalize((0.5, 0.5, 0.5), (0.5, 0.5, 0.5)) # 이미지를 정규화합니다.\n",
    "])\n",
    "#####################################################################################################################################\n",
    "# Custom 데이터셋 생성\n",
    "dataset = CustomDataset(transform=transform)"
   ]
  },
  {
   "cell_type": "markdown",
   "id": "e8591882",
   "metadata": {},
   "source": [
    "# 4. 샘플이미지 확인"
   ]
  },
  {
   "cell_type": "code",
   "execution_count": 7,
   "id": "ddaa99aa",
   "metadata": {},
   "outputs": [
    {
     "name": "stdout",
     "output_type": "stream",
     "text": [
      "Fire Image 1\n"
     ]
    },
    {
     "data": {
      "image/png": "[encoded data removed]",
      "text/plain": [
       "<PIL.Image.Image image mode=RGB size=64x64>"
      ]
     },
     "metadata": {},
     "output_type": "display_data"
    },
    {
     "name": "stdout",
     "output_type": "stream",
     "text": [
      "Fire Image 2\n"
     ]
    },
    {
     "data": {
      "image/png": "[encoded data removed]",
      "text/plain": [
       "<PIL.Image.Image image mode=RGB size=64x64>"
      ]
     },
     "metadata": {},
     "output_type": "display_data"
    },
    {
     "name": "stdout",
     "output_type": "stream",
     "text": [
      "Fire Image 3\n"
     ]
    },
    {
     "data": {
      "image/png": "[encoded data removed]",
      "text/plain": [
       "<PIL.Image.Image image mode=RGB size=64x64>"
      ]
     },
     "metadata": {},
     "output_type": "display_data"
    },
    {
     "name": "stdout",
     "output_type": "stream",
     "text": [
      "Fire Image 4\n"
     ]
    },
    {
     "data": {
      "image/png": "[encoded data removed]",
      "text/plain": [
       "<PIL.Image.Image image mode=RGB size=64x64>"
      ]
     },
     "metadata": {},
     "output_type": "display_data"
    },
    {
     "name": "stdout",
     "output_type": "stream",
     "text": [
      "Non-Fire Image 1\n"
     ]
    },
    {
     "data": {
      "image/png": "[encoded data removed]",
      "text/plain": [
       "<PIL.Image.Image image mode=RGB size=64x64>"
      ]
     },
     "metadata": {},
     "output_type": "display_data"
    },
    {
     "name": "stdout",
     "output_type": "stream",
     "text": [
      "Non-Fire Image 2\n"
     ]
    },
    {
     "data": {
      "image/png": "[encoded data removed]",
      "text/plain": [
       "<PIL.Image.Image image mode=RGB size=64x64>"
      ]
     },
     "metadata": {},
     "output_type": "display_data"
    },
    {
     "name": "stdout",
     "output_type": "stream",
     "text": [
      "Non-Fire Image 3\n"
     ]
    },
    {
     "data": {
      "image/png": "[encoded data removed]",
      "text/plain": [
       "<PIL.Image.Image image mode=RGB size=64x64>"
      ]
     },
     "metadata": {},
     "output_type": "display_data"
    },
    {
     "name": "stdout",
     "output_type": "stream",
     "text": [
      "Non-Fire Image 4\n"
     ]
    },
    {
     "data": {
      "image/png": "[encoded data removed]",
      "text/plain": [
       "<PIL.Image.Image image mode=RGB size=64x64>"
      ]
     },
     "metadata": {},
     "output_type": "display_data"
    }
   ],
   "source": [
    "# 샘플 이미지 가져오기\n",
    "fire_count = 0\n",
    "non_fire_count = 0\n",
    "\n",
    "# 샘플 이미지 출력 개수 정의\n",
    "PRINT_NUM = 4\n",
    "\n",
    "# 샘플 이미지 출력\n",
    "for i in range(len(dataset)):\n",
    "    sample_image, sample_label = dataset[i]\n",
    "    \n",
    "    if sample_label == 1 and fire_count < PRINT_NUM:\n",
    "        # 화재 이미지 출력\n",
    "        to_pil = ToPILImage()\n",
    "        sample_image = to_pil(sample_image * 0.5 + 0.5)\n",
    "        print(f\"Fire Image {fire_count + 1}\")\n",
    "        display(sample_image)\n",
    "        fire_count += 1\n",
    "        \n",
    "    elif sample_label == 0 and non_fire_count < PRINT_NUM:\n",
    "        # 비화재 이미지 출력\n",
    "        to_pil = ToPILImage()\n",
    "        sample_image = to_pil(sample_image * 0.5 + 0.5)\n",
    "        print(f\"Non-Fire Image {non_fire_count + 1}\")\n",
    "        display(sample_image)\n",
    "        non_fire_count += 1\n",
    "        \n",
    "    if fire_count >= PRINT_NUM and non_fire_count >= PRINT_NUM:\n",
    "        # 화재와 비화재 이미지가 모두 4장씩 출력되면 종료\n",
    "        break"
   ]
  },
  {
   "cell_type": "markdown",
   "id": "1de17712",
   "metadata": {},
   "source": [
    "## 5. \n",
    "## - 학습, 검증, 테스트 데이터 정의 \n",
    "## - 데이터로더 정의\n",
    "## - 설정 값 정의"
   ]
  },
  {
   "cell_type": "code",
   "execution_count": 8,
   "id": "0b671ac4",
   "metadata": {},
   "outputs": [],
   "source": [
    "# CUDA 사용 가능 여부 확인\n",
    "USE_CUDA = torch.cuda.is_available()\n",
    "# DEVICE 설정 (GPU 사용 가능 시 GPU 사용, 불가능 시 CPU 사용)\n",
    "DEVICE = torch.device(\"cuda\" if USE_CUDA else \"cpu\")\n",
    "# 학습 설정 값\n",
    "BATCH_SIZE = 128\n",
    "\n",
    "train_size = int(0.6 * len(dataset))\n",
    "val_size = test_size = int(0.2 * len(dataset))\n",
    "if train_size + val_size + test_size != len(dataset):\n",
    "    test_size = len(dataset) - train_size - val_size\n",
    "train_dataset, val_dataset, test_dataset = random_split(dataset, [train_size, val_size, test_size])\n",
    "\n",
    "train_loader = DataLoader(train_dataset, \n",
    "                          batch_size=BATCH_SIZE, \n",
    "                          shuffle=True)\n",
    "val_loader = DataLoader(val_dataset, \n",
    "                        batch_size=BATCH_SIZE, \n",
    "                        shuffle=False)\n",
    "test_loader = DataLoader(test_dataset, \n",
    "                         batch_size=BATCH_SIZE, \n",
    "                         shuffle=False)"
   ]
  },
  {
   "cell_type": "markdown",
   "id": "735a5fd8",
   "metadata": {},
   "source": [
    "# 6. CNN모델 구축"
   ]
  },
  {
   "cell_type": "code",
   "execution_count": 9,
   "id": "7aab2818",
   "metadata": {},
   "outputs": [],
   "source": [
    "#####################################################################################################################################\n",
    "### Batch Normalization 을 사용하여 각 layer가 이전 layer출력에 덜 의존적이도록 변형하여 robust한 모델 구현\n",
    "class CNN(nn.Module):\n",
    "    def __init__(self):\n",
    "        super(CNN, self).__init__()\n",
    "        self.conv1 = nn.Conv2d(3, 32, kernel_size=3, padding=1)\n",
    "        self.bn1 = nn.BatchNorm2d(32)  ### Batch Normalization 추가\n",
    "        \n",
    "        self.conv2 = nn.Conv2d(32, 64, kernel_size=3, padding=1)\n",
    "        self.bn2 = nn.BatchNorm2d(64)  ### Batch Normalization 추가\n",
    "        \n",
    "        self.conv3 = nn.Conv2d(64, 128, kernel_size=3, padding=1)\n",
    "        self.bn3 = nn.BatchNorm2d(128)  ### Batch Normalization 추가\n",
    "        \n",
    "        self.pool = nn.MaxPool2d(2, 2)\n",
    "        self.fc1 = nn.Linear(128 * 8 * 8, 512)\n",
    "        self.fc2 = nn.Linear(512, 1)\n",
    "#####################################################################################################################################\n",
    "    def forward(self, x):\n",
    "        ### Convolutional -> Batch Norm -> ReLU -> Pooling\n",
    "        x = self.pool(F.relu(self.bn1(self.conv1(x))))\n",
    "        x = self.pool(F.relu(self.bn2(self.conv2(x))))\n",
    "        x = self.pool(F.relu(self.bn3(self.conv3(x))))\n",
    "        \n",
    "        x = x.view(x.size(0), -1)\n",
    "        \n",
    "        x = F.relu(self.fc1(x))\n",
    "        x = F.dropout(x, training=self.training)\n",
    "        x = torch.sigmoid(self.fc2(x))\n",
    "        return x"
   ]
  },
  {
   "cell_type": "code",
   "execution_count": 18,
   "id": "6038c7f2",
   "metadata": {},
   "outputs": [],
   "source": [
    "# 모델 생성 및 모델을 CUDA 디바이스로 전송\n",
    "model = CNN().to(DEVICE)\n",
    "\n",
    "# 손실함수 정의\n",
    "criterion = nn.BCELoss()\n",
    "\n",
    "### Optimizer 정의 및 모델의 파라미터를 인자로 전달\n",
    "optimizer = optim.Adam(model.parameters(), lr=0.0001)#lr=0.0001 ### learning rate를 기본(0.001)에서 0.0001로 낮춰줌\n",
    "#optimizer = optim.SGD(model.parameters(), lr=0.001, momentum=0.9)\n",
    "#####################################################################################################################################\n",
    "### scheduler를 사용하여 학습률 조정\n",
    "scheduler = torch.optim.lr_scheduler.StepLR(optimizer, step_size=10, gamma=0.1) ### 10 epoch마다 학습률을 0.1배로 줄입니다.\n",
    "#scheduler = torch.optim.lr_scheduler.ReduceLROnPlateau(optimizer, 'min') # 검증 손실이 개선되지 않을 때 학습률을 줄입니다.\n",
    "\n",
    "### early stopping을 위한 변수 선언 및 초기화\n",
    "### early stopping: 학습 중 어느 시점부터 validation accuracy가 증가하지 않으면, 과적합 가능성이 있으므로 이를방지\n",
    "### ▶ val loss가 감소하지 않으면 학습 중단\n",
    "\n",
    "#best_val_loss = float('inf')\n",
    "#patience = 0\n",
    "\n",
    "#####################################################################################################################################\n"
   ]
  },
  {
   "cell_type": "markdown",
   "id": "1ff2f7ab",
   "metadata": {},
   "source": [
    "# 7. 평가 함수 정의"
   ]
  },
  {
   "cell_type": "code",
   "execution_count": 19,
   "id": "8ea21ed9",
   "metadata": {},
   "outputs": [],
   "source": [
    "def eval_CNN(loader, model, criterion, device):\n",
    "    # 모델을 평가 모드로 설정\n",
    "    model.eval()\n",
    "    correct = 0\n",
    "    total = 0\n",
    "    total_loss = 0.0\n",
    "\n",
    "    with torch.no_grad():\n",
    "        # DataLoader를 이용해 배치 단위로 데이터를 가져와 평가 진행\n",
    "        for data in loader:\n",
    "            inputs, labels = data\n",
    "            inputs, labels = inputs.to(device), labels.to(device)\n",
    "            outputs = model(inputs)\n",
    "            loss = criterion(outputs, labels.float().unsqueeze(1))\n",
    "            total_loss += loss.item()\n",
    "            # 모델의 출력값을 반올림하여 예측값 계산\n",
    "            predicted = torch.round(outputs.data)\n",
    "            total += labels.size(0)\n",
    "            # 예측값과 실제값이 일치하는 경우 정확도 증가\n",
    "            correct += (predicted == labels.unsqueeze(1)).sum().item()\n",
    "\n",
    "    # 정확도와 평균 손실 반환\n",
    "    accuracy = 100 * correct / total\n",
    "    return accuracy, total_loss / len(loader)"
   ]
  },
  {
   "cell_type": "markdown",
   "id": "d4432932",
   "metadata": {},
   "source": [
    "# 8. 학습 및 검증"
   ]
  },
  {
   "cell_type": "code",
   "execution_count": 20,
   "id": "61b2797d",
   "metadata": {},
   "outputs": [],
   "source": [
    "EPOCHS = 30"
   ]
  },
  {
   "cell_type": "code",
   "execution_count": 21,
   "id": "70b7fe73",
   "metadata": {},
   "outputs": [
    {
     "name": "stdout",
     "output_type": "stream",
     "text": [
      "[Epoch 1] loss: 0.579, train_accuracy: 81.64%, val_loss: 0.668, val_accuracy: 83.92%\n",
      "[Epoch 2] loss: 0.394, train_accuracy: 76.46%, val_loss: 0.572, val_accuracy: 72.86%\n",
      "[Epoch 3] loss: 0.320, train_accuracy: 76.46%, val_loss: 0.492, val_accuracy: 72.86%\n",
      "[Epoch 4] loss: 0.247, train_accuracy: 79.63%, val_loss: 0.412, val_accuracy: 74.37%\n",
      "[Epoch 5] loss: 0.172, train_accuracy: 79.63%, val_loss: 0.459, val_accuracy: 76.88%\n",
      "[Epoch 6] loss: 0.187, train_accuracy: 84.64%, val_loss: 0.438, val_accuracy: 79.90%\n",
      "[Epoch 7] loss: 0.175, train_accuracy: 85.98%, val_loss: 0.432, val_accuracy: 81.91%\n",
      "[Epoch 8] loss: 0.155, train_accuracy: 87.98%, val_loss: 0.287, val_accuracy: 87.94%\n",
      "[Epoch 9] loss: 0.182, train_accuracy: 92.49%, val_loss: 0.180, val_accuracy: 91.46%\n",
      "[Epoch 10] loss: 0.144, train_accuracy: 90.82%, val_loss: 0.256, val_accuracy: 87.94%\n",
      "[Epoch 11] loss: 0.165, train_accuracy: 93.32%, val_loss: 0.210, val_accuracy: 89.45%\n",
      "[Epoch 12] loss: 0.167, train_accuracy: 93.32%, val_loss: 0.226, val_accuracy: 87.44%\n",
      "[Epoch 13] loss: 0.180, train_accuracy: 92.15%, val_loss: 0.213, val_accuracy: 91.46%\n",
      "[Epoch 14] loss: 0.166, train_accuracy: 93.99%, val_loss: 0.173, val_accuracy: 92.96%\n",
      "[Epoch 15] loss: 0.143, train_accuracy: 94.32%, val_loss: 0.160, val_accuracy: 93.47%\n",
      "[Epoch 16] loss: 0.196, train_accuracy: 92.82%, val_loss: 0.150, val_accuracy: 91.96%\n",
      "[Epoch 17] loss: 0.141, train_accuracy: 92.49%, val_loss: 0.145, val_accuracy: 93.47%\n",
      "[Epoch 18] loss: 0.162, train_accuracy: 94.16%, val_loss: 0.164, val_accuracy: 93.47%\n",
      "[Epoch 19] loss: 0.166, train_accuracy: 94.49%, val_loss: 0.162, val_accuracy: 91.96%\n",
      "[Epoch 20] loss: 0.156, train_accuracy: 94.16%, val_loss: 0.167, val_accuracy: 92.96%\n",
      "[Epoch 21] loss: 0.162, train_accuracy: 93.66%, val_loss: 0.170, val_accuracy: 91.96%\n",
      "[Epoch 22] loss: 0.163, train_accuracy: 94.82%, val_loss: 0.151, val_accuracy: 93.47%\n",
      "[Epoch 23] loss: 0.159, train_accuracy: 92.82%, val_loss: 0.147, val_accuracy: 92.46%\n",
      "[Epoch 24] loss: 0.138, train_accuracy: 93.66%, val_loss: 0.142, val_accuracy: 93.97%\n",
      "[Epoch 25] loss: 0.154, train_accuracy: 93.16%, val_loss: 0.174, val_accuracy: 93.47%\n",
      "[Epoch 26] loss: 0.139, train_accuracy: 95.16%, val_loss: 0.177, val_accuracy: 91.46%\n",
      "[Epoch 27] loss: 0.154, train_accuracy: 94.32%, val_loss: 0.164, val_accuracy: 91.46%\n",
      "[Epoch 28] loss: 0.162, train_accuracy: 92.82%, val_loss: 0.178, val_accuracy: 90.95%\n",
      "[Epoch 29] loss: 0.157, train_accuracy: 95.16%, val_loss: 0.174, val_accuracy: 90.95%\n",
      "[Epoch 30] loss: 0.138, train_accuracy: 93.82%, val_loss: 0.166, val_accuracy: 92.46%\n",
      "Finished Training\n"
     ]
    }
   ],
   "source": [
    "for epoch in range(EPOCHS):\n",
    "    # 모델을 학습 모드로 설정\n",
    "    model.train()\n",
    "    running_loss = 0.0\n",
    "    for i, data in enumerate(train_loader, 0):\n",
    "        inputs, labels = data\n",
    "        inputs, labels = inputs.to(DEVICE), labels.to(DEVICE)\n",
    "        optimizer.zero_grad()\n",
    "        outputs = model(inputs)\n",
    "        loss = criterion(outputs, labels.float().unsqueeze(1)) # 오차 계산\n",
    "        loss.backward()\n",
    "        optimizer.step() # 매개변수 업데이트\n",
    "        running_loss += loss.item()\n",
    "\n",
    "#####################################################################################################################################\n",
    "### 위에 선언한 scheduler를 사용\n",
    "    scheduler.step()  ### epoch마다 학습률을 갱신(adam용 scheduler)\n",
    "    #scheduler.step(val_loss)  # 검증 손실을 기반으로 학습률을 갱신합니다.(sgd용 scheduler)\n",
    "#####################################################################################################################################\n",
    "\n",
    "    # 훈련 데이터와 검증 데이터의 정확도와 손실을 계산\n",
    "    train_accuracy, train_loss = eval_CNN(train_loader, model, criterion, DEVICE)\n",
    "    val_accuracy, val_loss = eval_CNN(val_loader, model, criterion, DEVICE)\n",
    "    \n",
    "#####################################################################################################################################\n",
    "    ### early stopping 체크\n",
    "#    if val_loss < best_val_loss:\n",
    "#        best_val_loss = val_loss\n",
    "#        patience = 0\n",
    "#    else:\n",
    "#        patience += 1\n",
    "#        if patience > 5:  # patience는 실험적으로 결정할 수 있습니다.\n",
    "#            print(\"Early stopping\")\n",
    "#            break\n",
    "#####################################################################################################################################\n",
    "    \n",
    "    # 현재 epoch의 훈련과 검증 결과를 출력\n",
    "    print('[Epoch %d] loss: %.3f, train_accuracy: %.2f%%, val_loss: %.3f, val_accuracy: %.2f%%'\n",
    "          % (epoch + 1, running_loss / len(train_loader), train_accuracy, val_loss, val_accuracy))\n",
    "\n",
    "print('Finished Training')"
   ]
  },
  {
   "cell_type": "markdown",
   "id": "202ca583",
   "metadata": {},
   "source": [
    "# 9. TEST 성능 평가"
   ]
  },
  {
   "cell_type": "code",
   "execution_count": 22,
   "id": "4f0dc050",
   "metadata": {},
   "outputs": [
    {
     "name": "stdout",
     "output_type": "stream",
     "text": [
      "Test Loss: 0.130, Test Accuracy: 94.53%\n"
     ]
    }
   ],
   "source": [
    "test_accuracy, test_loss = eval_CNN(test_loader, model, criterion, DEVICE)\n",
    "print('Test Loss: %.3f, Test Accuracy: %.2f%%' % (test_loss, test_accuracy))"
   ]
  }
 ],
 "metadata": {
  "kernelspec": {
   "display_name": "Python 3 (ipykernel)",
   "language": "python",
   "name": "python3"
  },
  "language_info": {
   "codemirror_mode": {
    "name": "ipython",
    "version": 3
   },
   "file_extension": ".py",
   "mimetype": "text/x-python",
   "name": "python",
   "nbconvert_exporter": "python",
   "pygments_lexer": "ipython3",
   "version": "3.10.9"
  }
 },
 "nbformat": 4,
 "nbformat_minor": 5
}
