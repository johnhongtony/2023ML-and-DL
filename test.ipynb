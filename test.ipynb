{
 "cells": [
  {
   "cell_type": "markdown",
   "id": "fb59f6a5",
   "metadata": {},
   "source": [
    "## 조건별 오토바이 가격 데이터를 이용한 다중선형회귀분석"
   ]
  },
  {
   "cell_type": "markdown",
   "id": "3c2087d5",
   "metadata": {},
   "source": [
    "## import and Load data\n",
    "\n",
    "이번 프로젝트에서 수행 할 패키지를 임포트하고 데이터셋을 로드합니다."
   ]
  },
  {
   "cell_type": "code",
   "execution_count": 36,
   "id": "61b3fc61",
   "metadata": {},
   "outputs": [],
   "source": [
    "import numpy as np\n",
    "import pandas as pd\n",
    "import matplotlib.pyplot as plt"
   ]
  },
  {
   "cell_type": "code",
   "execution_count": 37,
   "id": "030c93f6",
   "metadata": {},
   "outputs": [],
   "source": [
    "data = pd.read_excel('./archive/Bike_Price_Prediction.xlsx', sheet_name=0)"
   ]
  },
  {
   "cell_type": "code",
   "execution_count": 38,
   "id": "0ca2ac48",
   "metadata": {},
   "outputs": [
    {
     "data": {
      "text/html": [
       "<div>\n",
       "<style scoped>\n",
       "    .dataframe tbody tr th:only-of-type {\n",
       "        vertical-align: middle;\n",
       "    }\n",
       "\n",
       "    .dataframe tbody tr th {\n",
       "        vertical-align: top;\n",
       "    }\n",
       "\n",
       "    .dataframe thead th {\n",
       "        text-align: right;\n",
       "    }\n",
       "</style>\n",
       "<table border=\"1\" class=\"dataframe\">\n",
       "  <thead>\n",
       "    <tr style=\"text-align: right;\">\n",
       "      <th></th>\n",
       "      <th>S.no</th>\n",
       "      <th>Bike_company</th>\n",
       "      <th>Bike_model</th>\n",
       "      <th>Manufactured_year</th>\n",
       "      <th>Engine_warranty</th>\n",
       "      <th>Engine_type</th>\n",
       "      <th>Fuel_type</th>\n",
       "      <th>CC(Cubic capacity)</th>\n",
       "      <th>Fuel_Capacity</th>\n",
       "      <th>Price</th>\n",
       "    </tr>\n",
       "  </thead>\n",
       "  <tbody>\n",
       "    <tr>\n",
       "      <th>0</th>\n",
       "      <td>1</td>\n",
       "      <td>Bajaj</td>\n",
       "      <td>Avenger 220</td>\n",
       "      <td>2020</td>\n",
       "      <td>5.0</td>\n",
       "      <td>Single</td>\n",
       "      <td>Petrol</td>\n",
       "      <td>220CC</td>\n",
       "      <td>10 Litres</td>\n",
       "      <td>113000</td>\n",
       "    </tr>\n",
       "    <tr>\n",
       "      <th>1</th>\n",
       "      <td>2</td>\n",
       "      <td>TVS</td>\n",
       "      <td>Apache RTR</td>\n",
       "      <td>2020</td>\n",
       "      <td>5.0</td>\n",
       "      <td>V-twin</td>\n",
       "      <td>Petrol</td>\n",
       "      <td>120CC</td>\n",
       "      <td>11 Litres</td>\n",
       "      <td>70000</td>\n",
       "    </tr>\n",
       "    <tr>\n",
       "      <th>2</th>\n",
       "      <td>3</td>\n",
       "      <td>Hero</td>\n",
       "      <td>Passion</td>\n",
       "      <td>2020</td>\n",
       "      <td>5.0</td>\n",
       "      <td>Boxer</td>\n",
       "      <td>Petrol</td>\n",
       "      <td>140CC</td>\n",
       "      <td>12 Litres</td>\n",
       "      <td>85000</td>\n",
       "    </tr>\n",
       "    <tr>\n",
       "      <th>3</th>\n",
       "      <td>4</td>\n",
       "      <td>Honda</td>\n",
       "      <td>Activa 3G</td>\n",
       "      <td>2020</td>\n",
       "      <td>5.0</td>\n",
       "      <td>Single</td>\n",
       "      <td>Petrol</td>\n",
       "      <td>150CC</td>\n",
       "      <td>13 Litres</td>\n",
       "      <td>90000</td>\n",
       "    </tr>\n",
       "    <tr>\n",
       "      <th>4</th>\n",
       "      <td>5</td>\n",
       "      <td>Suzuki</td>\n",
       "      <td>Access</td>\n",
       "      <td>2020</td>\n",
       "      <td>5.0</td>\n",
       "      <td>V-twin</td>\n",
       "      <td>Petrol</td>\n",
       "      <td>350CC</td>\n",
       "      <td>14 Litres</td>\n",
       "      <td>65000</td>\n",
       "    </tr>\n",
       "    <tr>\n",
       "      <th>...</th>\n",
       "      <td>...</td>\n",
       "      <td>...</td>\n",
       "      <td>...</td>\n",
       "      <td>...</td>\n",
       "      <td>...</td>\n",
       "      <td>...</td>\n",
       "      <td>...</td>\n",
       "      <td>...</td>\n",
       "      <td>...</td>\n",
       "      <td>...</td>\n",
       "    </tr>\n",
       "    <tr>\n",
       "      <th>303</th>\n",
       "      <td>304</td>\n",
       "      <td>Bgauss</td>\n",
       "      <td>Bgauss B8</td>\n",
       "      <td>2017</td>\n",
       "      <td>3.0</td>\n",
       "      <td>Boxer</td>\n",
       "      <td>Petrol</td>\n",
       "      <td>185CC</td>\n",
       "      <td>19 Litres</td>\n",
       "      <td>81916</td>\n",
       "    </tr>\n",
       "    <tr>\n",
       "      <th>304</th>\n",
       "      <td>305</td>\n",
       "      <td>Bgauss</td>\n",
       "      <td>Bgauss Radiator</td>\n",
       "      <td>2017</td>\n",
       "      <td>3.0</td>\n",
       "      <td>Boxer</td>\n",
       "      <td>Petrol</td>\n",
       "      <td>205CC</td>\n",
       "      <td>20 Litres</td>\n",
       "      <td>82666</td>\n",
       "    </tr>\n",
       "    <tr>\n",
       "      <th>305</th>\n",
       "      <td>306</td>\n",
       "      <td>Bgauss</td>\n",
       "      <td>Bgauss Razor</td>\n",
       "      <td>2017</td>\n",
       "      <td>3.0</td>\n",
       "      <td>Boxer</td>\n",
       "      <td>Petrol</td>\n",
       "      <td>185CC</td>\n",
       "      <td>21 Litres</td>\n",
       "      <td>83416</td>\n",
       "    </tr>\n",
       "    <tr>\n",
       "      <th>306</th>\n",
       "      <td>307</td>\n",
       "      <td>Bgauss</td>\n",
       "      <td>Bgauss Flash</td>\n",
       "      <td>2017</td>\n",
       "      <td>3.0</td>\n",
       "      <td>Boxer</td>\n",
       "      <td>Petrol</td>\n",
       "      <td>205CC</td>\n",
       "      <td>22 Litres</td>\n",
       "      <td>84166</td>\n",
       "    </tr>\n",
       "    <tr>\n",
       "      <th>307</th>\n",
       "      <td>308</td>\n",
       "      <td>Bgauss</td>\n",
       "      <td>Bgauss Hash</td>\n",
       "      <td>2017</td>\n",
       "      <td>3.0</td>\n",
       "      <td>Boxer</td>\n",
       "      <td>Petrol</td>\n",
       "      <td>220CC</td>\n",
       "      <td>23 Litres</td>\n",
       "      <td>84916</td>\n",
       "    </tr>\n",
       "  </tbody>\n",
       "</table>\n",
       "<p>308 rows × 10 columns</p>\n",
       "</div>"
      ],
      "text/plain": [
       "     S.no Bike_company       Bike_model  Manufactured_year  Engine_warranty  \\\n",
       "0       1        Bajaj      Avenger 220               2020              5.0   \n",
       "1       2          TVS       Apache RTR               2020              5.0   \n",
       "2       3         Hero          Passion               2020              5.0   \n",
       "3       4        Honda        Activa 3G               2020              5.0   \n",
       "4       5       Suzuki           Access               2020              5.0   \n",
       "..    ...          ...              ...                ...              ...   \n",
       "303   304       Bgauss        Bgauss B8               2017              3.0   \n",
       "304   305       Bgauss  Bgauss Radiator               2017              3.0   \n",
       "305   306       Bgauss     Bgauss Razor               2017              3.0   \n",
       "306   307       Bgauss     Bgauss Flash               2017              3.0   \n",
       "307   308       Bgauss      Bgauss Hash               2017              3.0   \n",
       "\n",
       "    Engine_type Fuel_type CC(Cubic capacity) Fuel_Capacity   Price  \n",
       "0        Single    Petrol              220CC     10 Litres  113000  \n",
       "1        V-twin    Petrol              120CC     11 Litres   70000  \n",
       "2         Boxer    Petrol              140CC     12 Litres   85000  \n",
       "3        Single    Petrol              150CC     13 Litres   90000  \n",
       "4        V-twin    Petrol              350CC     14 Litres   65000  \n",
       "..          ...       ...                ...           ...     ...  \n",
       "303       Boxer    Petrol              185CC     19 Litres   81916  \n",
       "304       Boxer    Petrol              205CC     20 Litres   82666  \n",
       "305       Boxer    Petrol              185CC     21 Litres   83416  \n",
       "306       Boxer    Petrol              205CC     22 Litres   84166  \n",
       "307       Boxer    Petrol              220CC     23 Litres   84916  \n",
       "\n",
       "[308 rows x 10 columns]"
      ]
     },
     "execution_count": 38,
     "metadata": {},
     "output_type": "execute_result"
    }
   ],
   "source": [
    "data"
   ]
  },
  {
   "cell_type": "markdown",
   "id": "f38bb1d6",
   "metadata": {},
   "source": [
    "### Data preprocessing\n",
    "\n",
    "기존 kaggle에서 받아온 오토바이 가격 데이터셋은 구현하려 하는 다중선형회귀분석에 알맞지 않은 문자열이 존재하여 \n",
    "모델에 적용할 수 있게 데이터를 전처리 해줍니다."
   ]
  },
  {
   "cell_type": "code",
   "execution_count": 39,
   "id": "906ed373",
   "metadata": {},
   "outputs": [],
   "source": [
    "data=data.drop(columns=['S.no','Bike_company','Bike_model']) #데이터 예측에 의미가 없는 컬럼 삭제\n",
    "data=data.dropna(axis=0) #데이터 정합성을 위해 데이터가 비워저 있는 행 삭제\n",
    "data=data[data.Manufactured_year > 2010] #데이터 정합성을 위해 2010년도 이전 데이터행 삭제\n",
    "data[\"CC(Cubic capacity)\"] = data[\"CC(Cubic capacity)\"].str.replace(pat='CC', repl=r'', regex=True) #CC컬럼의 'CC'가 붙어있는 문자 삭제\n",
    "data[\"Fuel_Capacity\"] = data[\"Fuel_Capacity\"].str.replace(pat=' Litres', repl=r'', regex=True) #연료컬럼의 붙어있는 문자 삭제\n",
    "data[\"Fuel_Capacity\"] = data[\"Fuel_Capacity\"].str.replace(pat='Battery', repl='0', regex=True) #연료컬럼의 '배터리'를 '0'으로 변환(Fuel_type에서 전기오토바이는 식별 가능)"
   ]
  },
  {
   "cell_type": "code",
   "execution_count": 40,
   "id": "5ef0c045",
   "metadata": {},
   "outputs": [
    {
     "data": {
      "text/html": [
       "<div>\n",
       "<style scoped>\n",
       "    .dataframe tbody tr th:only-of-type {\n",
       "        vertical-align: middle;\n",
       "    }\n",
       "\n",
       "    .dataframe tbody tr th {\n",
       "        vertical-align: top;\n",
       "    }\n",
       "\n",
       "    .dataframe thead th {\n",
       "        text-align: right;\n",
       "    }\n",
       "</style>\n",
       "<table border=\"1\" class=\"dataframe\">\n",
       "  <thead>\n",
       "    <tr style=\"text-align: right;\">\n",
       "      <th></th>\n",
       "      <th>Manufactured_year</th>\n",
       "      <th>Engine_warranty</th>\n",
       "      <th>Engine_type</th>\n",
       "      <th>Fuel_type</th>\n",
       "      <th>CC(Cubic capacity)</th>\n",
       "      <th>Fuel_Capacity</th>\n",
       "      <th>Price</th>\n",
       "    </tr>\n",
       "  </thead>\n",
       "  <tbody>\n",
       "    <tr>\n",
       "      <th>0</th>\n",
       "      <td>2020</td>\n",
       "      <td>5.0</td>\n",
       "      <td>Single</td>\n",
       "      <td>Petrol</td>\n",
       "      <td>220</td>\n",
       "      <td>10</td>\n",
       "      <td>113000</td>\n",
       "    </tr>\n",
       "    <tr>\n",
       "      <th>1</th>\n",
       "      <td>2020</td>\n",
       "      <td>5.0</td>\n",
       "      <td>V-twin</td>\n",
       "      <td>Petrol</td>\n",
       "      <td>120</td>\n",
       "      <td>11</td>\n",
       "      <td>70000</td>\n",
       "    </tr>\n",
       "    <tr>\n",
       "      <th>2</th>\n",
       "      <td>2020</td>\n",
       "      <td>5.0</td>\n",
       "      <td>Boxer</td>\n",
       "      <td>Petrol</td>\n",
       "      <td>140</td>\n",
       "      <td>12</td>\n",
       "      <td>85000</td>\n",
       "    </tr>\n",
       "    <tr>\n",
       "      <th>3</th>\n",
       "      <td>2020</td>\n",
       "      <td>5.0</td>\n",
       "      <td>Single</td>\n",
       "      <td>Petrol</td>\n",
       "      <td>150</td>\n",
       "      <td>13</td>\n",
       "      <td>90000</td>\n",
       "    </tr>\n",
       "    <tr>\n",
       "      <th>4</th>\n",
       "      <td>2020</td>\n",
       "      <td>5.0</td>\n",
       "      <td>V-twin</td>\n",
       "      <td>Petrol</td>\n",
       "      <td>350</td>\n",
       "      <td>14</td>\n",
       "      <td>65000</td>\n",
       "    </tr>\n",
       "    <tr>\n",
       "      <th>...</th>\n",
       "      <td>...</td>\n",
       "      <td>...</td>\n",
       "      <td>...</td>\n",
       "      <td>...</td>\n",
       "      <td>...</td>\n",
       "      <td>...</td>\n",
       "      <td>...</td>\n",
       "    </tr>\n",
       "    <tr>\n",
       "      <th>303</th>\n",
       "      <td>2017</td>\n",
       "      <td>3.0</td>\n",
       "      <td>Boxer</td>\n",
       "      <td>Petrol</td>\n",
       "      <td>185</td>\n",
       "      <td>19</td>\n",
       "      <td>81916</td>\n",
       "    </tr>\n",
       "    <tr>\n",
       "      <th>304</th>\n",
       "      <td>2017</td>\n",
       "      <td>3.0</td>\n",
       "      <td>Boxer</td>\n",
       "      <td>Petrol</td>\n",
       "      <td>205</td>\n",
       "      <td>20</td>\n",
       "      <td>82666</td>\n",
       "    </tr>\n",
       "    <tr>\n",
       "      <th>305</th>\n",
       "      <td>2017</td>\n",
       "      <td>3.0</td>\n",
       "      <td>Boxer</td>\n",
       "      <td>Petrol</td>\n",
       "      <td>185</td>\n",
       "      <td>21</td>\n",
       "      <td>83416</td>\n",
       "    </tr>\n",
       "    <tr>\n",
       "      <th>306</th>\n",
       "      <td>2017</td>\n",
       "      <td>3.0</td>\n",
       "      <td>Boxer</td>\n",
       "      <td>Petrol</td>\n",
       "      <td>205</td>\n",
       "      <td>22</td>\n",
       "      <td>84166</td>\n",
       "    </tr>\n",
       "    <tr>\n",
       "      <th>307</th>\n",
       "      <td>2017</td>\n",
       "      <td>3.0</td>\n",
       "      <td>Boxer</td>\n",
       "      <td>Petrol</td>\n",
       "      <td>220</td>\n",
       "      <td>23</td>\n",
       "      <td>84916</td>\n",
       "    </tr>\n",
       "  </tbody>\n",
       "</table>\n",
       "<p>302 rows × 7 columns</p>\n",
       "</div>"
      ],
      "text/plain": [
       "     Manufactured_year  Engine_warranty Engine_type Fuel_type  \\\n",
       "0                 2020              5.0      Single    Petrol   \n",
       "1                 2020              5.0      V-twin    Petrol   \n",
       "2                 2020              5.0       Boxer    Petrol   \n",
       "3                 2020              5.0      Single    Petrol   \n",
       "4                 2020              5.0      V-twin    Petrol   \n",
       "..                 ...              ...         ...       ...   \n",
       "303               2017              3.0       Boxer    Petrol   \n",
       "304               2017              3.0       Boxer    Petrol   \n",
       "305               2017              3.0       Boxer    Petrol   \n",
       "306               2017              3.0       Boxer    Petrol   \n",
       "307               2017              3.0       Boxer    Petrol   \n",
       "\n",
       "    CC(Cubic capacity) Fuel_Capacity   Price  \n",
       "0                  220            10  113000  \n",
       "1                  120            11   70000  \n",
       "2                  140            12   85000  \n",
       "3                  150            13   90000  \n",
       "4                  350            14   65000  \n",
       "..                 ...           ...     ...  \n",
       "303                185            19   81916  \n",
       "304                205            20   82666  \n",
       "305                185            21   83416  \n",
       "306                205            22   84166  \n",
       "307                220            23   84916  \n",
       "\n",
       "[302 rows x 7 columns]"
      ]
     },
     "execution_count": 40,
     "metadata": {},
     "output_type": "execute_result"
    }
   ],
   "source": [
    "data"
   ]
  },
  {
   "cell_type": "code",
   "execution_count": 41,
   "id": "7b2f0db0",
   "metadata": {},
   "outputs": [
    {
     "data": {
      "text/plain": [
       "Manufactured_year       int64\n",
       "Engine_warranty       float64\n",
       "Engine_type             int64\n",
       "Fuel_type               int64\n",
       "CC(Cubic capacity)     object\n",
       "Fuel_Capacity          object\n",
       "Price                   int64\n",
       "dtype: object"
      ]
     },
     "execution_count": 41,
     "metadata": {},
     "output_type": "execute_result"
    }
   ],
   "source": [
    "data['Engine_type'].replace({'Boxer':1, 'Dual Stroke':2, 'Oxidiser-Air inlet':3, 'Single':4, 'Two-Stroke':5, 'V-twin':6},inplace=True)\n",
    "#해당 엔진타입을 넣고 모델 학습결과 예측값에 상관없이 회귀계수가 나와 해당 데이터 삭제 \n",
    "data['Fuel_type'].replace({'Petrol':1, 'Electricity':2},inplace=True)\n",
    "data.dtypes"
   ]
  },
  {
   "cell_type": "code",
   "execution_count": 42,
   "id": "ce701b61",
   "metadata": {},
   "outputs": [
    {
     "data": {
      "text/plain": [
       "Manufactured_year     int64\n",
       "Engine_warranty       int64\n",
       "Engine_type           int64\n",
       "Fuel_type             int64\n",
       "CC(Cubic capacity)    int64\n",
       "Fuel_Capacity         int64\n",
       "Price                 int64\n",
       "dtype: object"
      ]
     },
     "execution_count": 42,
     "metadata": {},
     "output_type": "execute_result"
    }
   ],
   "source": [
    "data = data.astype(dtype='int64', errors='ignore') #변경 가능한 data type을 int형으로 변경\n",
    "data.dtypes"
   ]
  },
  {
   "cell_type": "code",
   "execution_count": 43,
   "id": "4cf2b2a4",
   "metadata": {},
   "outputs": [
    {
     "data": {
      "text/html": [
       "<div>\n",
       "<style scoped>\n",
       "    .dataframe tbody tr th:only-of-type {\n",
       "        vertical-align: middle;\n",
       "    }\n",
       "\n",
       "    .dataframe tbody tr th {\n",
       "        vertical-align: top;\n",
       "    }\n",
       "\n",
       "    .dataframe thead th {\n",
       "        text-align: right;\n",
       "    }\n",
       "</style>\n",
       "<table border=\"1\" class=\"dataframe\">\n",
       "  <thead>\n",
       "    <tr style=\"text-align: right;\">\n",
       "      <th></th>\n",
       "      <th>Manufactured_year</th>\n",
       "      <th>Engine_warranty</th>\n",
       "      <th>Engine_type</th>\n",
       "      <th>Fuel_type</th>\n",
       "      <th>CC(Cubic capacity)</th>\n",
       "      <th>Fuel_Capacity</th>\n",
       "      <th>Price</th>\n",
       "    </tr>\n",
       "  </thead>\n",
       "  <tbody>\n",
       "    <tr>\n",
       "      <th>0</th>\n",
       "      <td>2020</td>\n",
       "      <td>5</td>\n",
       "      <td>4</td>\n",
       "      <td>1</td>\n",
       "      <td>220</td>\n",
       "      <td>10</td>\n",
       "      <td>113000</td>\n",
       "    </tr>\n",
       "    <tr>\n",
       "      <th>1</th>\n",
       "      <td>2020</td>\n",
       "      <td>5</td>\n",
       "      <td>6</td>\n",
       "      <td>1</td>\n",
       "      <td>120</td>\n",
       "      <td>11</td>\n",
       "      <td>70000</td>\n",
       "    </tr>\n",
       "    <tr>\n",
       "      <th>2</th>\n",
       "      <td>2020</td>\n",
       "      <td>5</td>\n",
       "      <td>1</td>\n",
       "      <td>1</td>\n",
       "      <td>140</td>\n",
       "      <td>12</td>\n",
       "      <td>85000</td>\n",
       "    </tr>\n",
       "    <tr>\n",
       "      <th>3</th>\n",
       "      <td>2020</td>\n",
       "      <td>5</td>\n",
       "      <td>4</td>\n",
       "      <td>1</td>\n",
       "      <td>150</td>\n",
       "      <td>13</td>\n",
       "      <td>90000</td>\n",
       "    </tr>\n",
       "    <tr>\n",
       "      <th>4</th>\n",
       "      <td>2020</td>\n",
       "      <td>5</td>\n",
       "      <td>6</td>\n",
       "      <td>1</td>\n",
       "      <td>350</td>\n",
       "      <td>14</td>\n",
       "      <td>65000</td>\n",
       "    </tr>\n",
       "    <tr>\n",
       "      <th>...</th>\n",
       "      <td>...</td>\n",
       "      <td>...</td>\n",
       "      <td>...</td>\n",
       "      <td>...</td>\n",
       "      <td>...</td>\n",
       "      <td>...</td>\n",
       "      <td>...</td>\n",
       "    </tr>\n",
       "    <tr>\n",
       "      <th>303</th>\n",
       "      <td>2017</td>\n",
       "      <td>3</td>\n",
       "      <td>1</td>\n",
       "      <td>1</td>\n",
       "      <td>185</td>\n",
       "      <td>19</td>\n",
       "      <td>81916</td>\n",
       "    </tr>\n",
       "    <tr>\n",
       "      <th>304</th>\n",
       "      <td>2017</td>\n",
       "      <td>3</td>\n",
       "      <td>1</td>\n",
       "      <td>1</td>\n",
       "      <td>205</td>\n",
       "      <td>20</td>\n",
       "      <td>82666</td>\n",
       "    </tr>\n",
       "    <tr>\n",
       "      <th>305</th>\n",
       "      <td>2017</td>\n",
       "      <td>3</td>\n",
       "      <td>1</td>\n",
       "      <td>1</td>\n",
       "      <td>185</td>\n",
       "      <td>21</td>\n",
       "      <td>83416</td>\n",
       "    </tr>\n",
       "    <tr>\n",
       "      <th>306</th>\n",
       "      <td>2017</td>\n",
       "      <td>3</td>\n",
       "      <td>1</td>\n",
       "      <td>1</td>\n",
       "      <td>205</td>\n",
       "      <td>22</td>\n",
       "      <td>84166</td>\n",
       "    </tr>\n",
       "    <tr>\n",
       "      <th>307</th>\n",
       "      <td>2017</td>\n",
       "      <td>3</td>\n",
       "      <td>1</td>\n",
       "      <td>1</td>\n",
       "      <td>220</td>\n",
       "      <td>23</td>\n",
       "      <td>84916</td>\n",
       "    </tr>\n",
       "  </tbody>\n",
       "</table>\n",
       "<p>302 rows × 7 columns</p>\n",
       "</div>"
      ],
      "text/plain": [
       "     Manufactured_year  Engine_warranty  Engine_type  Fuel_type  \\\n",
       "0                 2020                5            4          1   \n",
       "1                 2020                5            6          1   \n",
       "2                 2020                5            1          1   \n",
       "3                 2020                5            4          1   \n",
       "4                 2020                5            6          1   \n",
       "..                 ...              ...          ...        ...   \n",
       "303               2017                3            1          1   \n",
       "304               2017                3            1          1   \n",
       "305               2017                3            1          1   \n",
       "306               2017                3            1          1   \n",
       "307               2017                3            1          1   \n",
       "\n",
       "     CC(Cubic capacity)  Fuel_Capacity   Price  \n",
       "0                   220             10  113000  \n",
       "1                   120             11   70000  \n",
       "2                   140             12   85000  \n",
       "3                   150             13   90000  \n",
       "4                   350             14   65000  \n",
       "..                  ...            ...     ...  \n",
       "303                 185             19   81916  \n",
       "304                 205             20   82666  \n",
       "305                 185             21   83416  \n",
       "306                 205             22   84166  \n",
       "307                 220             23   84916  \n",
       "\n",
       "[302 rows x 7 columns]"
      ]
     },
     "execution_count": 43,
     "metadata": {},
     "output_type": "execute_result"
    }
   ],
   "source": [
    "data"
   ]
  },
  {
   "cell_type": "code",
   "execution_count": 44,
   "id": "e56e581a",
   "metadata": {},
   "outputs": [],
   "source": [
    "data = data[['Manufactured_year','Engine_warranty','Engine_type','Fuel_type','CC(Cubic capacity)','Fuel_Capacity','Price']].values\n",
    "# (기존) xlsx 형식의 데이터를 .values를 통해 -> (변경) array형으로 변환  ,'Engine_type' ->제외"
   ]
  },
  {
   "cell_type": "code",
   "execution_count": 45,
   "id": "e451c42d",
   "metadata": {},
   "outputs": [
    {
     "data": {
      "text/plain": [
       "array([[  2020,      5,      4, ...,    220,     10, 113000],\n",
       "       [  2020,      5,      6, ...,    120,     11,  70000],\n",
       "       [  2020,      5,      1, ...,    140,     12,  85000],\n",
       "       ...,\n",
       "       [  2017,      3,      1, ...,    185,     21,  83416],\n",
       "       [  2017,      3,      1, ...,    205,     22,  84166],\n",
       "       [  2017,      3,      1, ...,    220,     23,  84916]], dtype=int64)"
      ]
     },
     "execution_count": 45,
     "metadata": {},
     "output_type": "execute_result"
    }
   ],
   "source": [
    "data"
   ]
  },
  {
   "cell_type": "markdown",
   "id": "f0176fd6",
   "metadata": {},
   "source": [
    "### Split Data: Train data, Validation Data"
   ]
  },
  {
   "cell_type": "code",
   "execution_count": 46,
   "id": "92c13116",
   "metadata": {},
   "outputs": [],
   "source": [
    "train_len = 240 #전체 data의 80% 를 훈련데이터로 사용\n",
    "train_idxs = np.random.choice(len(data), train_len, replace=False) #index정의\n",
    "train_data = data[train_idxs] \n",
    "#위file data에 index형식에 맞게 뽑아 train_data를 선언(data[].values를 통해 array형식으로 변환하지 않으면 index와 매핑불가)"
   ]
  },
  {
   "cell_type": "code",
   "execution_count": 47,
   "id": "77a07bfb",
   "metadata": {},
   "outputs": [],
   "source": [
    "val_idxs = [idx for idx in range(len(data)) if idx not in train_idxs] #validation Data정의\n",
    "val_data = data[val_idxs] #validation Data 선언"
   ]
  },
  {
   "cell_type": "code",
   "execution_count": 48,
   "id": "891ee707",
   "metadata": {},
   "outputs": [
    {
     "data": {
      "text/plain": [
       "((240, 7), (62, 7))"
      ]
     },
     "execution_count": 48,
     "metadata": {},
     "output_type": "execute_result"
    }
   ],
   "source": [
    "train_data.shape, val_data.shape"
   ]
  },
  {
   "cell_type": "markdown",
   "id": "249d379a",
   "metadata": {},
   "source": [
    "### Set Models"
   ]
  },
  {
   "cell_type": "code",
   "execution_count": 49,
   "id": "a613418c",
   "metadata": {},
   "outputs": [],
   "source": [
    "from sklearn.linear_model import LinearRegression"
   ]
  },
  {
   "cell_type": "code",
   "execution_count": 50,
   "id": "d62e23d3",
   "metadata": {},
   "outputs": [],
   "source": [
    "model_lr = LinearRegression(fit_intercept=True) \n",
    "# Loss function is fixed to MSE., fit_intercept를 True로 하면 y절편 값을 구하고, False로 하면 그러지 않는다."
   ]
  },
  {
   "cell_type": "code",
   "execution_count": 51,
   "id": "623d712b",
   "metadata": {},
   "outputs": [],
   "source": [
    "from sklearn.tree import DecisionTreeRegressor"
   ]
  },
  {
   "cell_type": "code",
   "execution_count": 52,
   "id": "023f4a4e",
   "metadata": {},
   "outputs": [],
   "source": [
    "model_dt = DecisionTreeRegressor(#criterion='squared_error', # latest version {“squared_error”, “absolute_error”, ...}\n",
    "                                 criterion='squared_error', # v=0.24 {“mse”, “mae”, ...}\n",
    "                                 splitter='best', # {“best”, “random”}\n",
    "                                 max_depth=40, #tree의 깊이를 2로 설정\n",
    "                                 random_state=0) # random state를 '0'으로 설정하여 항상 같 순서의 데이터 사용"
   ]
  },
  {
   "cell_type": "code",
   "execution_count": 53,
   "id": "8c194dfb",
   "metadata": {},
   "outputs": [],
   "source": [
    "models = [model_lr, model_dt] #model_lr 과 model_dt를 배열로 담음(models)"
   ]
  },
  {
   "cell_type": "code",
   "execution_count": 54,
   "id": "fd19f444",
   "metadata": {},
   "outputs": [],
   "source": [
    "def mse_loss(pre, y):                   #mse loss function정의\n",
    "    return ((pre-y)**2).mean()"
   ]
  },
  {
   "cell_type": "code",
   "execution_count": 55,
   "id": "bb3a60ec",
   "metadata": {},
   "outputs": [
    {
     "data": {
      "text/plain": [
       "((240, 7), (62, 7))"
      ]
     },
     "execution_count": 55,
     "metadata": {},
     "output_type": "execute_result"
    }
   ],
   "source": [
    "train_data.shape, val_data.shape"
   ]
  },
  {
   "cell_type": "code",
   "execution_count": 56,
   "id": "ca2ddc27",
   "metadata": {},
   "outputs": [
    {
     "name": "stdout",
     "output_type": "stream",
     "text": [
      "(240, 6) (240,)\n"
     ]
    },
    {
     "data": {
      "text/plain": [
       "(array([[2020,    5,    1,    2,  125,    0],\n",
       "        [2020,    5,    6,    2,  160,    0],\n",
       "        [2018,   12,    2,    1, 1250,   27],\n",
       "        ...,\n",
       "        [2020,    3,    5,    2,  150,    0],\n",
       "        [2019,    5,    4,    1,  900,   29],\n",
       "        [2018,    3,    4,    2,  110,    0]], dtype=int64),\n",
       " array([  50000,   65000, 1779990,   75000,   83416,   56700, 1179909,\n",
       "          79999,  379999,   64000,  409090,  195999,  380000,   89000,\n",
       "          61568,   87999,  103000,  125000,  650000,  439090,  113000,\n",
       "          74000,   64000,   79099,   99000,   90000,   89000,   65000,\n",
       "          99000,   89000,  114000,   77990,   65000,  124500,   56700,\n",
       "          81916,  195999,  103000,  623000,  150000,   65000,   75000,\n",
       "         990000,  130000,  130000,  545909,  135000,  359999,   71000,\n",
       "         189000,   65000,   87999,   81166,   76000,   73000,  135000,\n",
       "         124500,  219500,   77000,  579909,  189000,  440000,  190099,\n",
       "         232000,  767888,   85000,   65000,   65000,   73000,   81000,\n",
       "        1089999,  199599,  529999,  450000,   87000,  790000,   96000,\n",
       "         249999,   65000,   75000, 1679900,  629999,   95599,  123456,\n",
       "          64500,  130000,  950000,  103000,   76550,  259999,   65000,\n",
       "         790000,   63400,  260099,   85000,  340000,   74000,   78000,\n",
       "          65000, 1200000,   61000,  135000,  449090,   90000,   99599,\n",
       "         590000,   55000,   55000,  250000,   73500,  790000,   81000,\n",
       "         350000,  145000,   97999,  389999,  449090,   99000,   69000,\n",
       "         990000,  189000,  550000,   90000,  679999,  195999,  101000,\n",
       "          84166,  109999,  150000,   70000,  320900,  629999,  106000,\n",
       "          77500,  109999,  879999,   63000,   95000,  950000,   70000,\n",
       "          90000,  134500,  124500,  650000,   91000,   66000,  255000,\n",
       "         678999,  439090,  459999,  219500,  103000,   69000,  898999,\n",
       "          84916,   62000, 1379999,  355000,  155000,  124500,  679999,\n",
       "          68000, 1579999,   63599,   66000,   77999,  230000,   79666,\n",
       "          79999,  320000,   76590,  650000,   65000,  350000,  185999,\n",
       "         809999,   76500,  124500,   61000,  490000,  199999,   79000,\n",
       "          55000,  199000,  539090,  300000,   76000,  150000,   84099,\n",
       "         155000,  359999,   95599,   67989,   75000,   54800,   66700,\n",
       "         390000,   99999,  790000,  345000,   79999,  123400,  189000,\n",
       "         890000,  629999,  579999,  124500,  260000,  155000,  180000,\n",
       "         320000,   74000,   74500,   59760,   70000,   89000,  650000,\n",
       "         350000,  310000,  232000,  103000,   86000,   69999,  550000,\n",
       "          67000,  180000,  358999,  330000,   86000,   87999,  232000,\n",
       "          73000,   55000,   99000,  390000,   89000,  650000,   69000,\n",
       "         790000,   62500], dtype=int64))"
      ]
     },
     "execution_count": 56,
     "metadata": {},
     "output_type": "execute_result"
    }
   ],
   "source": [
    "x = train_data[:, 0:6]   # train data를 리스트x로 저장 [0:6 -> 인덱스 0~6까지 즉 '6'번째 인덱스만큼 열로]\n",
    "y = train_data[:, 6]     # train data를 리스트y로 저장 [ '7열'의 가격 데이터를 종속변수로 설정]\n",
    "\n",
    "print(x.shape, y.shape)\n",
    "x, y"
   ]
  },
  {
   "cell_type": "code",
   "execution_count": 57,
   "id": "9eeda6a8",
   "metadata": {},
   "outputs": [
    {
     "name": "stdout",
     "output_type": "stream",
     "text": [
      "LinearRegression() 36805646533.717674\n",
      "DecisionTreeRegressor(max_depth=40, random_state=0) 225520.83333333334\n"
     ]
    }
   ],
   "source": [
    "for model in models:\n",
    "    model.fit(x, y)                    # sklearn의 .fit method를 사용하여 train data로 선언한 x와y를 훈련시킴\n",
    "    pre = model.predict(x)             # sklearn의 .predict()을 사용하여 훈련에 대한 예측값을 pre에 담음\n",
    "    \n",
    "    loss_value = mse_loss(pre, y)      # mse로스를 사용하여 예측값과 실제 label값의 로스를 담음\n",
    "    \n",
    "    print(model, loss_value)"
   ]
  },
  {
   "cell_type": "code",
   "execution_count": 58,
   "id": "da1ee5a6",
   "metadata": {},
   "outputs": [
    {
     "name": "stdout",
     "output_type": "stream",
     "text": [
      "[ -6652.50578672   8290.55649906 -18253.71062636 197060.45035292\n",
      "    866.60608285  14082.77216571]\n"
     ]
    }
   ],
   "source": [
    "print(model_lr.coef_) #회귀계수 확인  ex) y= b + m1x1 + m2x2 + ... + mnxn 에서 m1~mn에 해당되는 계수"
   ]
  },
  {
   "cell_type": "markdown",
   "id": "5c793113",
   "metadata": {},
   "source": [
    "###  Validate"
   ]
  },
  {
   "cell_type": "code",
   "execution_count": 59,
   "id": "070e14e6",
   "metadata": {},
   "outputs": [
    {
     "name": "stdout",
     "output_type": "stream",
     "text": [
      "(240, 6) (240,)\n"
     ]
    }
   ],
   "source": [
    "x_val = val_data[:, 0:6]\n",
    "y_val = val_data[:, 6]\n",
    "\n",
    "print(x.shape, y.shape)"
   ]
  },
  {
   "cell_type": "code",
   "execution_count": 60,
   "id": "7c4e0b6d",
   "metadata": {},
   "outputs": [
    {
     "name": "stdout",
     "output_type": "stream",
     "text": [
      "LinearRegression() 36805646533.717674\n",
      "DecisionTreeRegressor(max_depth=40, random_state=0) 225520.83333333334\n"
     ]
    }
   ],
   "source": [
    "for model in models:\n",
    "    \n",
    "    pre = model.predict(x)\n",
    "    loss_value = mse_loss(pre, y)\n",
    "    \n",
    "    print(model, loss_value)"
   ]
  },
  {
   "cell_type": "code",
   "execution_count": 61,
   "id": "d150995f",
   "metadata": {},
   "outputs": [
    {
     "name": "stdout",
     "output_type": "stream",
     "text": [
      "w: [ -6652.50578672   8290.55649906 -18253.71062636 197060.45035292\n",
      "    866.60608285  14082.77216571] , b: 12972158.34331595\n"
     ]
    }
   ],
   "source": [
    "print(\"w:\", model_lr.coef_, \", b:\", model_lr.intercept_)  #가중치 확인 .coef_ => 기울기 / .intercept_ => 절편"
   ]
  },
  {
   "cell_type": "code",
   "execution_count": 62,
   "id": "23c3f22b",
   "metadata": {},
   "outputs": [],
   "source": [
    "from sklearn.tree import export_graphviz             #의사결정트리를 사용하기 위해 임포트\n",
    "export_graphviz(model_dt, out_file ='tree.dot')      #model_dt에 의사결정 트리를 사용\n",
    "# http://webgraphviz.com/"
   ]
  },
  {
   "cell_type": "code",
   "execution_count": 63,
   "id": "d680b1a8",
   "metadata": {},
   "outputs": [],
   "source": [
    "xs = np.arange(0.0, 100.0, 1).reshape(-1, 1) #numpy기반 arange함수를 사용하여 [0.0 에서(개구간) 100.0까지(폐구간) 1의 간격으로 array형태로 반환)\n",
    "                                            #.reshape를 사용하여 -1을 통해 사이즈를 기반으로 row개수를 정하고, 1를 통해 1차원으로 데이터 나열"
   ]
  },
  {
   "cell_type": "code",
   "execution_count": 64,
   "id": "c0bdc575",
   "metadata": {},
   "outputs": [
    {
     "data": {
      "text/plain": [
       "0.6056418625737027"
      ]
     },
     "execution_count": 64,
     "metadata": {},
     "output_type": "execute_result"
    }
   ],
   "source": [
    "model_lr.score(x, y)"
   ]
  },
  {
   "cell_type": "code",
   "execution_count": 65,
   "id": "c90c9e00",
   "metadata": {},
   "outputs": [
    {
     "data": {
      "text/plain": [
       "0.9999975836322912"
      ]
     },
     "execution_count": 65,
     "metadata": {},
     "output_type": "execute_result"
    }
   ],
   "source": [
    "model_dt.score(x, y)"
   ]
  },
  {
   "cell_type": "code",
   "execution_count": null,
   "id": "aba0082f",
   "metadata": {},
   "outputs": [],
   "source": [
    "plt.scatter(x, y, c='k')      #산점도 (Scatter plot)는 두 변수의 상관 관계를 직교 좌표계의 평면에 점으로 표현하는 그래프\n",
    "plt.plot(xs, model_lr.predict(xs), c='r')  #실제로 그래프를 시각화함 (xs와 predict(xs)를 가지고 빨간색 라인으로 그래프를 나타냄)\n",
    "plt.show()"
   ]
  },
  {
   "cell_type": "code",
   "execution_count": 34,
   "id": "fb9f7db0",
   "metadata": {},
   "outputs": [
    {
     "ename": "ValueError",
     "evalue": "x and y must be the same size",
     "output_type": "error",
     "traceback": [
      "\u001b[1;31m---------------------------------------------------------------------------\u001b[0m",
      "\u001b[1;31mValueError\u001b[0m                                Traceback (most recent call last)",
      "Cell \u001b[1;32mIn[34], line 1\u001b[0m\n\u001b[1;32m----> 1\u001b[0m \u001b[43mplt\u001b[49m\u001b[38;5;241;43m.\u001b[39;49m\u001b[43mscatter\u001b[49m\u001b[43m(\u001b[49m\u001b[43my_val\u001b[49m\u001b[43m,\u001b[49m\u001b[43m \u001b[49m\u001b[43my\u001b[49m\u001b[43m)\u001b[49m      \u001b[38;5;66;03m#산점도 (Scatter plot)는 두 변수의 상관 관계를 직교 좌표계의 평면에 점으로 표현하는 그래프\u001b[39;00m\n\u001b[0;32m      2\u001b[0m plt\u001b[38;5;241m.\u001b[39mxlabel(\u001b[38;5;124m'\u001b[39m\u001b[38;5;124mActual Price\u001b[39m\u001b[38;5;124m'\u001b[39m)\n\u001b[0;32m      3\u001b[0m plt\u001b[38;5;241m.\u001b[39mylabel(\u001b[38;5;124m'\u001b[39m\u001b[38;5;124mPredicted Price\u001b[39m\u001b[38;5;124m'\u001b[39m)\n",
      "File \u001b[1;32m~\\anaconda3\\lib\\site-packages\\matplotlib\\pyplot.py:2835\u001b[0m, in \u001b[0;36mscatter\u001b[1;34m(x, y, s, c, marker, cmap, norm, vmin, vmax, alpha, linewidths, edgecolors, plotnonfinite, data, **kwargs)\u001b[0m\n\u001b[0;32m   2830\u001b[0m \u001b[38;5;129m@_copy_docstring_and_deprecators\u001b[39m(Axes\u001b[38;5;241m.\u001b[39mscatter)\n\u001b[0;32m   2831\u001b[0m \u001b[38;5;28;01mdef\u001b[39;00m \u001b[38;5;21mscatter\u001b[39m(\n\u001b[0;32m   2832\u001b[0m         x, y, s\u001b[38;5;241m=\u001b[39m\u001b[38;5;28;01mNone\u001b[39;00m, c\u001b[38;5;241m=\u001b[39m\u001b[38;5;28;01mNone\u001b[39;00m, marker\u001b[38;5;241m=\u001b[39m\u001b[38;5;28;01mNone\u001b[39;00m, cmap\u001b[38;5;241m=\u001b[39m\u001b[38;5;28;01mNone\u001b[39;00m, norm\u001b[38;5;241m=\u001b[39m\u001b[38;5;28;01mNone\u001b[39;00m,\n\u001b[0;32m   2833\u001b[0m         vmin\u001b[38;5;241m=\u001b[39m\u001b[38;5;28;01mNone\u001b[39;00m, vmax\u001b[38;5;241m=\u001b[39m\u001b[38;5;28;01mNone\u001b[39;00m, alpha\u001b[38;5;241m=\u001b[39m\u001b[38;5;28;01mNone\u001b[39;00m, linewidths\u001b[38;5;241m=\u001b[39m\u001b[38;5;28;01mNone\u001b[39;00m, \u001b[38;5;241m*\u001b[39m,\n\u001b[0;32m   2834\u001b[0m         edgecolors\u001b[38;5;241m=\u001b[39m\u001b[38;5;28;01mNone\u001b[39;00m, plotnonfinite\u001b[38;5;241m=\u001b[39m\u001b[38;5;28;01mFalse\u001b[39;00m, data\u001b[38;5;241m=\u001b[39m\u001b[38;5;28;01mNone\u001b[39;00m, \u001b[38;5;241m*\u001b[39m\u001b[38;5;241m*\u001b[39mkwargs):\n\u001b[1;32m-> 2835\u001b[0m     __ret \u001b[38;5;241m=\u001b[39m gca()\u001b[38;5;241m.\u001b[39mscatter(\n\u001b[0;32m   2836\u001b[0m         x, y, s\u001b[38;5;241m=\u001b[39ms, c\u001b[38;5;241m=\u001b[39mc, marker\u001b[38;5;241m=\u001b[39mmarker, cmap\u001b[38;5;241m=\u001b[39mcmap, norm\u001b[38;5;241m=\u001b[39mnorm,\n\u001b[0;32m   2837\u001b[0m         vmin\u001b[38;5;241m=\u001b[39mvmin, vmax\u001b[38;5;241m=\u001b[39mvmax, alpha\u001b[38;5;241m=\u001b[39malpha, linewidths\u001b[38;5;241m=\u001b[39mlinewidths,\n\u001b[0;32m   2838\u001b[0m         edgecolors\u001b[38;5;241m=\u001b[39medgecolors, plotnonfinite\u001b[38;5;241m=\u001b[39mplotnonfinite,\n\u001b[0;32m   2839\u001b[0m         \u001b[38;5;241m*\u001b[39m\u001b[38;5;241m*\u001b[39m({\u001b[38;5;124m\"\u001b[39m\u001b[38;5;124mdata\u001b[39m\u001b[38;5;124m\"\u001b[39m: data} \u001b[38;5;28;01mif\u001b[39;00m data \u001b[38;5;129;01mis\u001b[39;00m \u001b[38;5;129;01mnot\u001b[39;00m \u001b[38;5;28;01mNone\u001b[39;00m \u001b[38;5;28;01melse\u001b[39;00m {}), \u001b[38;5;241m*\u001b[39m\u001b[38;5;241m*\u001b[39mkwargs)\n\u001b[0;32m   2840\u001b[0m     sci(__ret)\n\u001b[0;32m   2841\u001b[0m     \u001b[38;5;28;01mreturn\u001b[39;00m __ret\n",
      "File \u001b[1;32m~\\anaconda3\\lib\\site-packages\\matplotlib\\__init__.py:1442\u001b[0m, in \u001b[0;36m_preprocess_data.<locals>.inner\u001b[1;34m(ax, data, *args, **kwargs)\u001b[0m\n\u001b[0;32m   1439\u001b[0m \u001b[38;5;129m@functools\u001b[39m\u001b[38;5;241m.\u001b[39mwraps(func)\n\u001b[0;32m   1440\u001b[0m \u001b[38;5;28;01mdef\u001b[39;00m \u001b[38;5;21minner\u001b[39m(ax, \u001b[38;5;241m*\u001b[39margs, data\u001b[38;5;241m=\u001b[39m\u001b[38;5;28;01mNone\u001b[39;00m, \u001b[38;5;241m*\u001b[39m\u001b[38;5;241m*\u001b[39mkwargs):\n\u001b[0;32m   1441\u001b[0m     \u001b[38;5;28;01mif\u001b[39;00m data \u001b[38;5;129;01mis\u001b[39;00m \u001b[38;5;28;01mNone\u001b[39;00m:\n\u001b[1;32m-> 1442\u001b[0m         \u001b[38;5;28;01mreturn\u001b[39;00m func(ax, \u001b[38;5;241m*\u001b[39m\u001b[38;5;28mmap\u001b[39m(sanitize_sequence, args), \u001b[38;5;241m*\u001b[39m\u001b[38;5;241m*\u001b[39mkwargs)\n\u001b[0;32m   1444\u001b[0m     bound \u001b[38;5;241m=\u001b[39m new_sig\u001b[38;5;241m.\u001b[39mbind(ax, \u001b[38;5;241m*\u001b[39margs, \u001b[38;5;241m*\u001b[39m\u001b[38;5;241m*\u001b[39mkwargs)\n\u001b[0;32m   1445\u001b[0m     auto_label \u001b[38;5;241m=\u001b[39m (bound\u001b[38;5;241m.\u001b[39marguments\u001b[38;5;241m.\u001b[39mget(label_namer)\n\u001b[0;32m   1446\u001b[0m                   \u001b[38;5;129;01mor\u001b[39;00m bound\u001b[38;5;241m.\u001b[39mkwargs\u001b[38;5;241m.\u001b[39mget(label_namer))\n",
      "File \u001b[1;32m~\\anaconda3\\lib\\site-packages\\matplotlib\\axes\\_axes.py:4584\u001b[0m, in \u001b[0;36mAxes.scatter\u001b[1;34m(self, x, y, s, c, marker, cmap, norm, vmin, vmax, alpha, linewidths, edgecolors, plotnonfinite, **kwargs)\u001b[0m\n\u001b[0;32m   4582\u001b[0m y \u001b[38;5;241m=\u001b[39m np\u001b[38;5;241m.\u001b[39mma\u001b[38;5;241m.\u001b[39mravel(y)\n\u001b[0;32m   4583\u001b[0m \u001b[38;5;28;01mif\u001b[39;00m x\u001b[38;5;241m.\u001b[39msize \u001b[38;5;241m!=\u001b[39m y\u001b[38;5;241m.\u001b[39msize:\n\u001b[1;32m-> 4584\u001b[0m     \u001b[38;5;28;01mraise\u001b[39;00m \u001b[38;5;167;01mValueError\u001b[39;00m(\u001b[38;5;124m\"\u001b[39m\u001b[38;5;124mx and y must be the same size\u001b[39m\u001b[38;5;124m\"\u001b[39m)\n\u001b[0;32m   4586\u001b[0m \u001b[38;5;28;01mif\u001b[39;00m s \u001b[38;5;129;01mis\u001b[39;00m \u001b[38;5;28;01mNone\u001b[39;00m:\n\u001b[0;32m   4587\u001b[0m     s \u001b[38;5;241m=\u001b[39m (\u001b[38;5;241m20\u001b[39m \u001b[38;5;28;01mif\u001b[39;00m mpl\u001b[38;5;241m.\u001b[39mrcParams[\u001b[38;5;124m'\u001b[39m\u001b[38;5;124m_internal.classic_mode\u001b[39m\u001b[38;5;124m'\u001b[39m] \u001b[38;5;28;01melse\u001b[39;00m\n\u001b[0;32m   4588\u001b[0m          mpl\u001b[38;5;241m.\u001b[39mrcParams[\u001b[38;5;124m'\u001b[39m\u001b[38;5;124mlines.markersize\u001b[39m\u001b[38;5;124m'\u001b[39m] \u001b[38;5;241m*\u001b[39m\u001b[38;5;241m*\u001b[39m \u001b[38;5;241m2.0\u001b[39m)\n",
      "\u001b[1;31mValueError\u001b[0m: x and y must be the same size"
     ]
    },
    {
     "data": {
      "image/png": "[encoded data removed]",
      "text/plain": [
       "<Figure size 640x480 with 1 Axes>"
      ]
     },
     "metadata": {},
     "output_type": "display_data"
    }
   ],
   "source": [
    "plt.scatter(y_val, y)      #산점도 (Scatter plot)는 두 변수의 상관 관계를 직교 좌표계의 평면에 점으로 표현하는 그래프\n",
    "plt.xlabel('Actual Price')\n",
    "plt.ylabel('Predicted Price')\n",
    "plt.axis(\"equal\")\n",
    "plt.axis(\"square\")\n",
    "plt.show()"
   ]
  },
  {
   "cell_type": "code",
   "execution_count": 66,
   "id": "a0e2d311",
   "metadata": {},
   "outputs": [
    {
     "ename": "ValueError",
     "evalue": "x and y must be the same size",
     "output_type": "error",
     "traceback": [
      "\u001b[1;31m---------------------------------------------------------------------------\u001b[0m",
      "\u001b[1;31mValueError\u001b[0m                                Traceback (most recent call last)",
      "Cell \u001b[1;32mIn[66], line 1\u001b[0m\n\u001b[1;32m----> 1\u001b[0m \u001b[43mplt\u001b[49m\u001b[38;5;241;43m.\u001b[39;49m\u001b[43mscatter\u001b[49m\u001b[43m(\u001b[49m\u001b[43mx\u001b[49m\u001b[43m,\u001b[49m\u001b[43m \u001b[49m\u001b[43my\u001b[49m\u001b[43m,\u001b[49m\u001b[43m \u001b[49m\u001b[43mc\u001b[49m\u001b[38;5;241;43m=\u001b[39;49m\u001b[38;5;124;43m'\u001b[39;49m\u001b[38;5;124;43mk\u001b[39;49m\u001b[38;5;124;43m'\u001b[39;49m\u001b[43m)\u001b[49m      \u001b[38;5;66;03m#산점도 (Scatter plot)는 두 변수의 상관 관계를 직교 좌표계의 평면에 점으로 표현하는 그래프\u001b[39;00m\n\u001b[0;32m      2\u001b[0m plt\u001b[38;5;241m.\u001b[39mplot(xs, model_dt\u001b[38;5;241m.\u001b[39mpredict(xs), c\u001b[38;5;241m=\u001b[39m\u001b[38;5;124m'\u001b[39m\u001b[38;5;124mr\u001b[39m\u001b[38;5;124m'\u001b[39m)  \u001b[38;5;66;03m#실제로 그래프를 시각화함 (xs와 predict(xs)를 가지고 빨간색 라인으로 그래프를 나타냄)\u001b[39;00m\n\u001b[0;32m      3\u001b[0m plt\u001b[38;5;241m.\u001b[39mshow()\n",
      "File \u001b[1;32m~\\anaconda3\\lib\\site-packages\\matplotlib\\pyplot.py:2835\u001b[0m, in \u001b[0;36mscatter\u001b[1;34m(x, y, s, c, marker, cmap, norm, vmin, vmax, alpha, linewidths, edgecolors, plotnonfinite, data, **kwargs)\u001b[0m\n\u001b[0;32m   2830\u001b[0m \u001b[38;5;129m@_copy_docstring_and_deprecators\u001b[39m(Axes\u001b[38;5;241m.\u001b[39mscatter)\n\u001b[0;32m   2831\u001b[0m \u001b[38;5;28;01mdef\u001b[39;00m \u001b[38;5;21mscatter\u001b[39m(\n\u001b[0;32m   2832\u001b[0m         x, y, s\u001b[38;5;241m=\u001b[39m\u001b[38;5;28;01mNone\u001b[39;00m, c\u001b[38;5;241m=\u001b[39m\u001b[38;5;28;01mNone\u001b[39;00m, marker\u001b[38;5;241m=\u001b[39m\u001b[38;5;28;01mNone\u001b[39;00m, cmap\u001b[38;5;241m=\u001b[39m\u001b[38;5;28;01mNone\u001b[39;00m, norm\u001b[38;5;241m=\u001b[39m\u001b[38;5;28;01mNone\u001b[39;00m,\n\u001b[0;32m   2833\u001b[0m         vmin\u001b[38;5;241m=\u001b[39m\u001b[38;5;28;01mNone\u001b[39;00m, vmax\u001b[38;5;241m=\u001b[39m\u001b[38;5;28;01mNone\u001b[39;00m, alpha\u001b[38;5;241m=\u001b[39m\u001b[38;5;28;01mNone\u001b[39;00m, linewidths\u001b[38;5;241m=\u001b[39m\u001b[38;5;28;01mNone\u001b[39;00m, \u001b[38;5;241m*\u001b[39m,\n\u001b[0;32m   2834\u001b[0m         edgecolors\u001b[38;5;241m=\u001b[39m\u001b[38;5;28;01mNone\u001b[39;00m, plotnonfinite\u001b[38;5;241m=\u001b[39m\u001b[38;5;28;01mFalse\u001b[39;00m, data\u001b[38;5;241m=\u001b[39m\u001b[38;5;28;01mNone\u001b[39;00m, \u001b[38;5;241m*\u001b[39m\u001b[38;5;241m*\u001b[39mkwargs):\n\u001b[1;32m-> 2835\u001b[0m     __ret \u001b[38;5;241m=\u001b[39m gca()\u001b[38;5;241m.\u001b[39mscatter(\n\u001b[0;32m   2836\u001b[0m         x, y, s\u001b[38;5;241m=\u001b[39ms, c\u001b[38;5;241m=\u001b[39mc, marker\u001b[38;5;241m=\u001b[39mmarker, cmap\u001b[38;5;241m=\u001b[39mcmap, norm\u001b[38;5;241m=\u001b[39mnorm,\n\u001b[0;32m   2837\u001b[0m         vmin\u001b[38;5;241m=\u001b[39mvmin, vmax\u001b[38;5;241m=\u001b[39mvmax, alpha\u001b[38;5;241m=\u001b[39malpha, linewidths\u001b[38;5;241m=\u001b[39mlinewidths,\n\u001b[0;32m   2838\u001b[0m         edgecolors\u001b[38;5;241m=\u001b[39medgecolors, plotnonfinite\u001b[38;5;241m=\u001b[39mplotnonfinite,\n\u001b[0;32m   2839\u001b[0m         \u001b[38;5;241m*\u001b[39m\u001b[38;5;241m*\u001b[39m({\u001b[38;5;124m\"\u001b[39m\u001b[38;5;124mdata\u001b[39m\u001b[38;5;124m\"\u001b[39m: data} \u001b[38;5;28;01mif\u001b[39;00m data \u001b[38;5;129;01mis\u001b[39;00m \u001b[38;5;129;01mnot\u001b[39;00m \u001b[38;5;28;01mNone\u001b[39;00m \u001b[38;5;28;01melse\u001b[39;00m {}), \u001b[38;5;241m*\u001b[39m\u001b[38;5;241m*\u001b[39mkwargs)\n\u001b[0;32m   2840\u001b[0m     sci(__ret)\n\u001b[0;32m   2841\u001b[0m     \u001b[38;5;28;01mreturn\u001b[39;00m __ret\n",
      "File \u001b[1;32m~\\anaconda3\\lib\\site-packages\\matplotlib\\__init__.py:1442\u001b[0m, in \u001b[0;36m_preprocess_data.<locals>.inner\u001b[1;34m(ax, data, *args, **kwargs)\u001b[0m\n\u001b[0;32m   1439\u001b[0m \u001b[38;5;129m@functools\u001b[39m\u001b[38;5;241m.\u001b[39mwraps(func)\n\u001b[0;32m   1440\u001b[0m \u001b[38;5;28;01mdef\u001b[39;00m \u001b[38;5;21minner\u001b[39m(ax, \u001b[38;5;241m*\u001b[39margs, data\u001b[38;5;241m=\u001b[39m\u001b[38;5;28;01mNone\u001b[39;00m, \u001b[38;5;241m*\u001b[39m\u001b[38;5;241m*\u001b[39mkwargs):\n\u001b[0;32m   1441\u001b[0m     \u001b[38;5;28;01mif\u001b[39;00m data \u001b[38;5;129;01mis\u001b[39;00m \u001b[38;5;28;01mNone\u001b[39;00m:\n\u001b[1;32m-> 1442\u001b[0m         \u001b[38;5;28;01mreturn\u001b[39;00m func(ax, \u001b[38;5;241m*\u001b[39m\u001b[38;5;28mmap\u001b[39m(sanitize_sequence, args), \u001b[38;5;241m*\u001b[39m\u001b[38;5;241m*\u001b[39mkwargs)\n\u001b[0;32m   1444\u001b[0m     bound \u001b[38;5;241m=\u001b[39m new_sig\u001b[38;5;241m.\u001b[39mbind(ax, \u001b[38;5;241m*\u001b[39margs, \u001b[38;5;241m*\u001b[39m\u001b[38;5;241m*\u001b[39mkwargs)\n\u001b[0;32m   1445\u001b[0m     auto_label \u001b[38;5;241m=\u001b[39m (bound\u001b[38;5;241m.\u001b[39marguments\u001b[38;5;241m.\u001b[39mget(label_namer)\n\u001b[0;32m   1446\u001b[0m                   \u001b[38;5;129;01mor\u001b[39;00m bound\u001b[38;5;241m.\u001b[39mkwargs\u001b[38;5;241m.\u001b[39mget(label_namer))\n",
      "File \u001b[1;32m~\\anaconda3\\lib\\site-packages\\matplotlib\\axes\\_axes.py:4584\u001b[0m, in \u001b[0;36mAxes.scatter\u001b[1;34m(self, x, y, s, c, marker, cmap, norm, vmin, vmax, alpha, linewidths, edgecolors, plotnonfinite, **kwargs)\u001b[0m\n\u001b[0;32m   4582\u001b[0m y \u001b[38;5;241m=\u001b[39m np\u001b[38;5;241m.\u001b[39mma\u001b[38;5;241m.\u001b[39mravel(y)\n\u001b[0;32m   4583\u001b[0m \u001b[38;5;28;01mif\u001b[39;00m x\u001b[38;5;241m.\u001b[39msize \u001b[38;5;241m!=\u001b[39m y\u001b[38;5;241m.\u001b[39msize:\n\u001b[1;32m-> 4584\u001b[0m     \u001b[38;5;28;01mraise\u001b[39;00m \u001b[38;5;167;01mValueError\u001b[39;00m(\u001b[38;5;124m\"\u001b[39m\u001b[38;5;124mx and y must be the same size\u001b[39m\u001b[38;5;124m\"\u001b[39m)\n\u001b[0;32m   4586\u001b[0m \u001b[38;5;28;01mif\u001b[39;00m s \u001b[38;5;129;01mis\u001b[39;00m \u001b[38;5;28;01mNone\u001b[39;00m:\n\u001b[0;32m   4587\u001b[0m     s \u001b[38;5;241m=\u001b[39m (\u001b[38;5;241m20\u001b[39m \u001b[38;5;28;01mif\u001b[39;00m mpl\u001b[38;5;241m.\u001b[39mrcParams[\u001b[38;5;124m'\u001b[39m\u001b[38;5;124m_internal.classic_mode\u001b[39m\u001b[38;5;124m'\u001b[39m] \u001b[38;5;28;01melse\u001b[39;00m\n\u001b[0;32m   4588\u001b[0m          mpl\u001b[38;5;241m.\u001b[39mrcParams[\u001b[38;5;124m'\u001b[39m\u001b[38;5;124mlines.markersize\u001b[39m\u001b[38;5;124m'\u001b[39m] \u001b[38;5;241m*\u001b[39m\u001b[38;5;241m*\u001b[39m \u001b[38;5;241m2.0\u001b[39m)\n",
      "\u001b[1;31mValueError\u001b[0m: x and y must be the same size"
     ]
    },
    {
     "data": {
      "image/png": "[encoded data removed]",
      "text/plain": [
       "<Figure size 640x480 with 1 Axes>"
      ]
     },
     "metadata": {},
     "output_type": "display_data"
    }
   ],
   "source": [
    "plt.scatter(x, y, c='k')      #산점도 (Scatter plot)는 두 변수의 상관 관계를 직교 좌표계의 평면에 점으로 표현하는 그래프\n",
    "plt.plot(xs, model_dt.predict(xs), c='r')  #실제로 그래프를 시각화함 (xs와 predict(xs)를 가지고 빨간색 라인으로 그래프를 나타냄)\n",
    "plt.show()"
   ]
  },
  {
   "cell_type": "code",
   "execution_count": null,
   "id": "ed15b166",
   "metadata": {},
   "outputs": [],
   "source": []
  },
  {
   "cell_type": "code",
   "execution_count": null,
   "id": "307c5d90",
   "metadata": {},
   "outputs": [],
   "source": []
  },
  {
   "cell_type": "code",
   "execution_count": null,
   "id": "cfd3ec02",
   "metadata": {},
   "outputs": [],
   "source": []
  },
  {
   "cell_type": "code",
   "execution_count": null,
   "id": "38529cbf",
   "metadata": {},
   "outputs": [],
   "source": []
  },
  {
   "cell_type": "code",
   "execution_count": null,
   "id": "2b2a7f25",
   "metadata": {},
   "outputs": [],
   "source": []
  },
  {
   "cell_type": "code",
   "execution_count": null,
   "id": "2364bb21",
   "metadata": {},
   "outputs": [],
   "source": []
  },
  {
   "cell_type": "code",
   "execution_count": null,
   "id": "c5ce72ab",
   "metadata": {},
   "outputs": [],
   "source": []
  },
  {
   "cell_type": "code",
   "execution_count": null,
   "id": "9e66ae15",
   "metadata": {},
   "outputs": [],
   "source": []
  }
 ],
 "metadata": {
  "kernelspec": {
   "display_name": "Python 3 (ipykernel)",
   "language": "python",
   "name": "python3"
  },
  "language_info": {
   "codemirror_mode": {
    "name": "ipython",
    "version": 3
   },
   "file_extension": ".py",
   "mimetype": "text/x-python",
   "name": "python",
   "nbconvert_exporter": "python",
   "pygments_lexer": "ipython3",
   "version": "3.10.9"
  }
 },
 "nbformat": 4,
 "nbformat_minor": 5
}
